{
  "nbformat": 4,
  "nbformat_minor": 0,
  "metadata": {
    "colab": {
      "provenance": [],
      "authorship_tag": "ABX9TyNFcllkN5NM48B1c2XUB73o"
    },
    "kernelspec": {
      "name": "python3",
      "display_name": "Python 3"
    },
    "language_info": {
      "name": "python"
    }
  },
  "cells": [
    {
      "cell_type": "markdown",
      "source": [
        "**Q1. What is a parameter?**"
      ],
      "metadata": {
        "id": "FBxD9WGahItQ"
      }
    },
    {
      "cell_type": "markdown",
      "source": [
        "In feature engineering, a **parameter** refers to a value that is used to control or influence a transformation applied to a dataset to create meaningful features. These parameters can be manually chosen or optimized to improve the model's performance.\n",
        "\n",
        "**Examples of Parameters in Feature Engineering:**\n",
        "1. Scaling and Normalization:\n",
        "When applying Min-Max Scaling, the parameters are the minimum and maximum values used to scale the data.\n",
        "\n",
        "2. Binning (Discretization):\n",
        "When converting continuous values into categories, the number of bins is a parameter.\n",
        "\n",
        "3. Polynomial Features:\n",
        "The degree of the polynomial is a parameter that determines the complexity of feature transformation.\n",
        "\n",
        "4. Encoding Categorical Variables:\n",
        "Number of categories to keep in One-Hot Encoding or Frequency Encoding.\n",
        "\n",
        "5. Time-Series Feature Extraction:\n",
        "Parameters like window size in moving averages or rolling statistics.\n"
      ],
      "metadata": {
        "id": "denEblSWI7rj"
      }
    },
    {
      "cell_type": "markdown",
      "source": [
        "**Q2. What is correlation?**\n",
        "\n",
        "Correlation is a statistical measure that describes the strength and direction of a relationship between two variables. It helps in understanding how one variable changes concerning another.\n",
        "\n",
        "**Types of Correlation:**\n",
        "\n",
        "1. Positive Correlation (+ve):\n",
        "- When one variable increases, the other also increases.\n",
        "- Example: Higher temperature leads to higher ice cream sales.\n",
        "- Correlation Coefficient (r) > 0\n",
        "\n",
        "2. Negative Correlation (-ve):\n",
        "- When one variable increases, the other decreases.\n",
        "- Example: Increase in humidity leads to a decrease in air conditioner usage.\n",
        "- Correlation Coefficient (r) < 0\n",
        "\n",
        "3. No Correlation (0):\n",
        "- No relationship between variables.\n",
        "- Example: Shoe size and intelligence.\n",
        "- Correlation Coefficient (r) = 0\n",
        "\n",
        "**How to Measure Correlation?**\n",
        "- Pearson Correlation Coefficient (r): Measures linear relationship (values - range from -1 to 1).\n",
        "- Spearman Rank Correlation: Used for ordinal data or non-linear relationships.\n",
        "- Kendall's Tau: Measures association based on rank.\n",
        "\n",
        "A **negative correlation** means that as one variable increases, the other decreases. In other words, they move in opposite directions.\n",
        "\n",
        "**Key Points:**\n",
        "- The correlation coefficient (r) is less than 0 (r < 0).\n",
        "- A strong negative correlation is close to -1 (e.g., -0.9).\n",
        "- A weak negative correlation is closer to 0 (e.g., -0.2).\n",
        "\n",
        "**Examples of Negative Correlation:**\n",
        "1. Temperature & Coffee Sales\n",
        "- As temperature increases, coffee sales decrease.\n",
        "2. Work Experience & Time Taken to Complete a Task\n",
        "- As work experience increases, the time taken to complete a task decreases.\n",
        "3. Fuel Efficiency & Car Weight\n",
        "- As car weight increases, fuel efficiency decreases."
      ],
      "metadata": {
        "id": "5uhqSJ6cJ-U6"
      }
    },
    {
      "cell_type": "code",
      "source": [
        "import pandas as pd\n",
        "\n",
        "#sample data\n",
        "data = {'Temperature': [30, 32, 36, 39, 42],\n",
        "        'Ice_Cream_Sales': [100, 120, 150, 200, 220]}\n",
        "\n",
        "df = pd.DataFrame(data)\n",
        "\n",
        "#compute correlation\n",
        "correlation = df.corr()\n",
        "print(correlation)"
      ],
      "metadata": {
        "colab": {
          "base_uri": "https://localhost:8080/"
        },
        "id": "XFr6jgveMJC3",
        "outputId": "d9b8b1f3-aba8-4ed4-ca6d-243e1f2560b1"
      },
      "execution_count": null,
      "outputs": [
        {
          "output_type": "stream",
          "name": "stdout",
          "text": [
            "                 Temperature  Ice_Cream_Sales\n",
            "Temperature          1.00000          0.99086\n",
            "Ice_Cream_Sales      0.99086          1.00000\n"
          ]
        }
      ]
    },
    {
      "cell_type": "markdown",
      "source": [
        "**Q3. Define Machine Learning. What are the main components in Machine Learning?**\n",
        "\n",
        "**Definition of Machine Learning (ML)**\n",
        "\n",
        "**Machine Learning (ML)** is a branch of artificial intelligence (AI) that enables computers to learn from data and make predictions or decisions without being explicitly programmed. It uses statistical techniques to identify patterns in data and improve performance over time.\n",
        "\n",
        "**Main Components of Machine Learning**\n",
        "\n",
        "Machine Learning consists of several key components:\n",
        "\n",
        "1.  Data\n",
        "- The foundation of ML; used for training and evaluation.\n",
        "- Types: Structured Data (tables, databases) & Unstructured Data (text, images).\n",
        "2.  Features (Independent Variables)\n",
        "- Attributes or characteristics used to make predictions.\n",
        "- Example: In a sales prediction model, features could be price, season, and marketing spend.\n",
        "3.  Target Variable (Dependent Variable)\n",
        "- The value the model is trying to predict.\n",
        "- Example: In a sales prediction model, the target variable could be monthly revenue.\n",
        "4.  Model\n",
        "- A mathematical representation that maps inputs (features) to the output (predictions).\n",
        "- Types: Linear Regression, Decision Trees, Neural Networks, etc.\n",
        "5. Training Process\n",
        "- The model is fed training data to learn patterns.\n",
        "- The algorithm adjusts its parameters to minimize errors.\n",
        "6. Loss Function & Optimization\n",
        "- Loss Function: Measures how far the model’s predictions are from actual values.\n",
        "- Optimization Algorithm: Adjusts model parameters to reduce loss (e.g., Gradient Descent).\n",
        "7. Evaluation Metrics\n",
        "- Measures model performance on new/unseen data.\n",
        "- Examples: Accuracy, Precision, Recall, RMSE, R² Score.\n",
        "8. Prediction & Deployment\n",
        "- Once trained, the model is used to make predictions on new data.\n",
        "- The model can be deployed in applications like recommendation systems, fraud detection, etc."
      ],
      "metadata": {
        "id": "xE_w9BiVMc2G"
      }
    },
    {
      "cell_type": "markdown",
      "source": [
        "**Q4. How does loss value help in determining whether the model is good or not?**\n",
        "\n",
        "The **loss value** in machine learning represents the error between the predicted and actual values. It helps in evaluating how well a model is performing during training and testing.\n",
        "\n",
        "**Key Points About Loss Value:**\n",
        "\n",
        "Low Loss Value → The model's predictions are close to actual values (better performance).\n",
        "\n",
        "High Loss Value → The model’s predictions are far from actual values (poor performance).\n",
        "\n",
        "Loss is minimized during training using optimization techniques like Gradient Descent.\n",
        "\n",
        "**Types of Loss Functions:**\n",
        "\n",
        "**For Regression Problems:**\n",
        "\n",
        "1. Mean Squared Error (MSE): Penalizes large errors more.\n",
        "\n",
        "MSE= $\\frac{1}{n}Σ({y_{actual}-y_{predicted}})^2$\n",
        "\n",
        "2. Mean Absolute Error (MAE): Measures the average absolute difference.\n",
        "3. Root Mean Squared Error (RMSE): Similar to MSE but takes the square root.\n",
        "\n",
        "For Classification Problems:\n",
        "1. Cross-Entropy Loss (Log Loss): Measures how far predicted probabilities are from actual class labels.\n",
        "2. Hinge Loss: Used for Support Vector Machines (SVMs)\n",
        "\n",
        "**How to Interpret Loss Value?**\n",
        "- If training loss is low, but test loss is high, the model is overfitting.\n",
        "- If both training and test loss are high, the model is underfitting (not learning well).\n",
        "- The goal is to reduce loss without overfitting by tuning hyperparameters, adding regularization, or increasing data.\n",
        "\n"
      ],
      "metadata": {
        "id": "T4inLXtuOXXX"
      }
    },
    {
      "cell_type": "code",
      "source": [
        "from sklearn.metrics import mean_squared_error\n",
        "\n",
        "# Actual vs Predicted values\n",
        "y_actual = [3, 5, 2, 7]\n",
        "y_pred = [2.8, 5.1, 2.5, 6.8]\n",
        "\n",
        "# Compute MSE Loss\n",
        "loss = mean_squared_error(y_actual, y_pred)\n",
        "print(\"Loss Value (MSE):\", loss)"
      ],
      "metadata": {
        "colab": {
          "base_uri": "https://localhost:8080/"
        },
        "id": "Lgq00Ni-MP4y",
        "outputId": "54d8ac8c-4f2c-4fd5-c10a-5b1e623a1ea8"
      },
      "execution_count": null,
      "outputs": [
        {
          "output_type": "stream",
          "name": "stdout",
          "text": [
            "Loss Value (MSE): 0.08500000000000002\n"
          ]
        }
      ]
    },
    {
      "cell_type": "markdown",
      "source": [
        "**Q5. What are continuous and categorical variables?**\n",
        "\n",
        "**Continuous vs. Categorical Variables**\n",
        "\n",
        "In data analysis and machine learning, variables are classified into continuous and categorical based on the type of values they hold.\n",
        "\n",
        "1. Continuous Variables (Numerical)\n",
        "- Definition: A continuous variable can take an infinite number of values within a given range.\n",
        "- It is measurable (can have decimal values).\n",
        "- Often represents quantities like height, weight, temperature, or sales revenue.\n",
        "- Examples:\n",
        " - Temperature (e.g., 25.6°C, 30.2°C)\n",
        " - Sales Revenue (e.g., ₹10,250.75, ₹20,500.90)\n",
        " - Age (e.g., 25.4 years, 30.7 years)\n",
        " - Stock Prices (e.g., ₹150.45, ₹200.10)\n",
        " - Statistical Measures Used: Mean, Median, Standard Deviation, Correlation\n",
        "\n",
        "2. Categorical Variables (Qualitative)\n",
        "- Definition: A categorical variable represents distinct groups or categories.\n",
        "- It is not measurable but can be counted or labeled.\n",
        "- Used for classification tasks in machine learning.\n",
        "- Types of Categorical Variables:\n",
        "- Nominal (No Order) – Categories with no inherent ranking\n",
        " - Example: Gender (Male, Female, Other), Colors (Red, Blue, Green)\n",
        "- Ordinal (Ordered) – Categories with a meaningful order\n",
        " - Example: Customer Ratings (Low, Medium, High), Education Level (High School, Bachelor’s, Master’s)\n",
        "- Statistical Measures Used: Frequency, Mode, Proportion"
      ],
      "metadata": {
        "id": "EWUHcTkVjzro"
      }
    },
    {
      "cell_type": "code",
      "source": [
        "import pandas as pd\n",
        "data1 = {'Age': [19, 22, 28, 31],  #continuous\n",
        "        'Salary': [30000, 40000, 50000, 60000],  #continuous\n",
        "        'Gender': ['Male', 'Female', 'Male', 'Female'],  #categorical (Nominal)\n",
        "        'Education': ['Bachelor', 'Master', 'PhD', 'Bachelor']}  #categorical (Ordinal)\n",
        "\n",
        "df = pd.DataFrame(data1)\n",
        "\n",
        "#checking Data Types\n",
        "print(df.dtypes)  #identify categorical vs. continuous variables\n"
      ],
      "metadata": {
        "colab": {
          "base_uri": "https://localhost:8080/"
        },
        "id": "4pudvGc1jpMZ",
        "outputId": "7d2acce1-1730-4863-a553-dc060602a21e"
      },
      "execution_count": null,
      "outputs": [
        {
          "output_type": "stream",
          "name": "stdout",
          "text": [
            "Age           int64\n",
            "Salary        int64\n",
            "Gender       object\n",
            "Education    object\n",
            "dtype: object\n"
          ]
        }
      ]
    },
    {
      "cell_type": "markdown",
      "source": [
        "**Q6. How do we handle categorical variables in Machine Learning? What are the common techniques?**\n",
        "\n"
      ],
      "metadata": {
        "id": "ns75mdCgngYy"
      }
    },
    {
      "cell_type": "markdown",
      "source": [
        "Handling categorical variables in machine learning is crucial because most ML models work with numerical data. Here are some common techniques:\n",
        "\n",
        "1. Encoding Techniques\n",
        "(a) Label Encoding\n",
        "- Converts each category into a unique number.\n",
        "- example-\n",
        "           Color:  Red, Blue, Green  \n",
        "           Label Encoded: 0, 1, 2  \n",
        "\n",
        "- Pros: Simple and memory-efficient.\n",
        "- Cons: Can introduce ordinal relationships that don’t exist.\n",
        "\n",
        "(b) One-Hot Encoding (OHE)\n",
        "- Creates binary columns for each category (0 or 1).\n",
        "- Example:\n",
        "      Color:  Red, Blue, Green  \n",
        "      OHE:  \n",
        "      Red   -> [1, 0, 0]  \n",
        "      Blue  -> [0, 1, 0]  \n",
        "      Green -> [0, 0, 1]  \n",
        "- Pros: Avoids ordinal relationships.\n",
        "- Cons: Increases feature space (high-dimensional for many categories).\n",
        "\n",
        "(c) Ordinal Encoding\n",
        "- Assigns ordered numerical values based on category ranking.\n",
        "- Example:\n",
        "         Size: Small, Medium, Large  \n",
        "         Ordinal Encoding: 1, 2, 3  \n",
        "- Pros: Keeps the relationship between categories.\n",
        "- Cons: Only useful for ordinal data.\n",
        "\n",
        "(d) Target Encoding (Mean Encoding)\n",
        "- Replaces categories with the mean of the target variable.\n",
        "- Example (if predicting sales):\n",
        "      City        Sales  \n",
        "      New York    100  \n",
        "      LA          200  \n",
        "      Chicago     150  \n",
        "      Target Encoded:  \n",
        "      New York -> 100, LA -> 200, Chicago -> 150  \n",
        "- Pros: Works well with high-cardinality data.\n",
        "- Cons: Can cause data leakage if not handled properly.\n",
        "\n",
        "2. Feature Engineering Approaches\n",
        "\n",
        "(e) Frequency Encoding\n",
        "- Replace categories with their occurrence count.\n",
        "- example:\n",
        "          City       Frequency Encoding  \n",
        "          New York   10  \n",
        "          LA         15  \n",
        "          Chicago    8  \n",
        "- Pros: Keeps important information about the category’s significance.\n",
        "- Cons: May not capture relationships properly.\n",
        "\n",
        "(f) Hash Encoding\n",
        "- Uses a hashing function to map categories into a fixed number of features.\n",
        "- Pros: Reduces high-cardinality issues.\n",
        "- Cons: Can introduce hash collisions.\n",
        "\n",
        "(g) Embedding (for Deep Learning)\n",
        "- Converts categorical variables into dense vector representations.\n",
        "- Pros: Works well with large datasets.\n",
        "- Cons: Requires more computational power.\n",
        "\n",
        "**Best Practices for Handling Categorical Variables**\n",
        "- For few categories (low cardinality) → One-Hot Encoding\n",
        "- For many categories (high cardinality) → Target Encoding / Frequency Encoding / Embeddings\n",
        "- For ordinal categories → Ordinal Encoding\n",
        "- For deep learning models → Embeddings\n"
      ],
      "metadata": {
        "id": "jM6v33Aabo7-"
      }
    },
    {
      "cell_type": "markdown",
      "source": [
        "**Q7. What do you mean by training and testing a dataset?**"
      ],
      "metadata": {
        "id": "9VfPdDZbd0U9"
      }
    },
    {
      "cell_type": "markdown",
      "source": [
        "**Training and Testing a Dataset in Machine Learning**\n",
        "\n",
        "In machine learning, we split a dataset into training and testing sets to evaluate model performance.\n",
        "\n",
        "1. Training Dataset\n",
        "\n",
        "- The training set is used to train the machine learning model.\n",
        "- It contains input features (X_train) and corresponding target values (y_train).\n",
        "- The model learns patterns, relationships, and rules from this data.\n",
        "- The training process involves optimizing parameters to minimize the error.\n",
        "\n",
        "2. Testing Dataset\n",
        "\n",
        "- The testing set is used to evaluate the model’s performance.\n",
        "- It contains unseen data (X_test) that was not used during training.\n",
        "- The model predicts outcomes (y_pred) based on this new data.\n",
        "- The goal is to check how well the model generalizes to unseen data.\n",
        "\n",
        "**Train-Test Split Example in Python**\n",
        "Using scikit-learn, we typically split the dataset:\n",
        "\n"
      ],
      "metadata": {
        "id": "TvNiup6cd9iq"
      }
    },
    {
      "cell_type": "code",
      "source": [
        "from sklearn.model_selection import train_test_split\n",
        "\n",
        "# Example dataset\n",
        "X = [[1], [2], [3], [4], [5], [6], [7], [8], [9], [10]]  # Features\n",
        "y = [10, 20, 30, 40, 50, 60, 70, 80, 90, 100]  # Target\n",
        "\n",
        "# Splitting data (80% training, 20% testing)\n",
        "X_train, X_test, y_train, y_test = train_test_split(X, y, test_size=0.2, random_state=42)\n",
        "\n",
        "print(\"Training Data:\", X_train, y_train)\n",
        "print(\"Testing Data:\", X_test, y_test)\n"
      ],
      "metadata": {
        "colab": {
          "base_uri": "https://localhost:8080/"
        },
        "id": "9h1LKDnqecUB",
        "outputId": "fbcd3055-bbdf-4dd9-9204-1f7c9c36750e"
      },
      "execution_count": null,
      "outputs": [
        {
          "output_type": "stream",
          "name": "stdout",
          "text": [
            "Training Data: [[6], [1], [8], [3], [10], [5], [4], [7]] [60, 10, 80, 30, 100, 50, 40, 70]\n",
            "Testing Data: [[9], [2]] [90, 20]\n"
          ]
        }
      ]
    },
    {
      "cell_type": "markdown",
      "source": [
        "Common Train-Test Splitting Ratios\n",
        "\n",
        "80-20 Split → 80% training, 20% testing (most common)\n",
        "\n",
        "70-30 Split → 70% training, 30% testing\n",
        "\n",
        "90-10 Split → 90% training, 10% testing (for large datasets)"
      ],
      "metadata": {
        "id": "ZTu_C5FpehEh"
      }
    },
    {
      "cell_type": "markdown",
      "source": [
        "**Q8. What is sklearn.preprocessing?**"
      ],
      "metadata": {
        "id": "i_U7QvJ9eqh4"
      }
    },
    {
      "cell_type": "markdown",
      "source": [
        "**sklearn.preprocessing in Machine Learning**\n",
        "\n",
        "sklearn.preprocessing is a module in Scikit-Learn that provides various techniques for scaling, encoding, and transforming data before training a machine learning model. Proper preprocessing improves model performance and ensures that data is in the correct format.\n",
        "\n",
        "**Common Preprocessing Techniques in sklearn.preprocessing**\n",
        "\n",
        "1. Standardization (StandardScaler)\n",
        "\n",
        "Used to scale numerical features to zero mean and unit variance.\n",
        "Formula:\n",
        "$X_{scaled} = \\frac{X - μ}{σ}$\n",
        "\n",
        "Useful for algorithms like SVM, Logistic Regression, and KNN"
      ],
      "metadata": {
        "id": "vVo9-x3feyRa"
      }
    },
    {
      "cell_type": "code",
      "source": [
        "from sklearn.preprocessing import StandardScaler\n",
        "import numpy as np\n",
        "\n",
        "data = np.array([[10, 200], [15, 300], [20, 400]])\n",
        "scaler = StandardScaler()\n",
        "scaled_data = scaler.fit_transform(data)\n",
        "\n",
        "print(scaled_data)"
      ],
      "metadata": {
        "colab": {
          "base_uri": "https://localhost:8080/"
        },
        "id": "jZY5s3I3fmml",
        "outputId": "2e0bd18b-bcc4-4002-b87e-c98b5d77d9e3"
      },
      "execution_count": null,
      "outputs": [
        {
          "output_type": "stream",
          "name": "stdout",
          "text": [
            "[[-1.22474487 -1.22474487]\n",
            " [ 0.          0.        ]\n",
            " [ 1.22474487  1.22474487]]\n"
          ]
        }
      ]
    },
    {
      "cell_type": "markdown",
      "source": [
        "2. Min-Max Scaling (MinMaxScaler)\n",
        "\n",
        "Scales values between 0 and 1.\n",
        "Formula:  $X_{scaled} = \\frac{X - X_{min}}{X_{max} - X_{min}}$\n",
        "\n",
        "Useful for Neural Networks and Decision Trees"
      ],
      "metadata": {
        "id": "AG-NttRxfqBd"
      }
    },
    {
      "cell_type": "code",
      "source": [
        "from sklearn.preprocessing import MinMaxScaler\n",
        "\n",
        "scaler = MinMaxScaler()\n",
        "scaled_data = scaler.fit_transform(data)\n",
        "\n",
        "print(scaled_data)"
      ],
      "metadata": {
        "colab": {
          "base_uri": "https://localhost:8080/"
        },
        "id": "wV4kLMzzfnbY",
        "outputId": "112671ff-3017-49a6-d286-05bd5940296b"
      },
      "execution_count": null,
      "outputs": [
        {
          "output_type": "stream",
          "name": "stdout",
          "text": [
            "[[0.  0. ]\n",
            " [0.5 0.5]\n",
            " [1.  1. ]]\n"
          ]
        }
      ]
    },
    {
      "cell_type": "markdown",
      "source": [
        "3. Encoding Categorical Data\n",
        "\n",
        "(i) One-Hot Encoding (OneHotEncoder)\n",
        "\n",
        "Converts categorical values into binary (0s and 1s).\n",
        "\n",
        "Useful for models that don’t handle categorical data, like Linear Regression."
      ],
      "metadata": {
        "id": "eatHgZkugOD_"
      }
    },
    {
      "cell_type": "code",
      "source": [
        "from sklearn.preprocessing import OneHotEncoder\n",
        "\n",
        "categories = np.array([[\"Red\"], [\"Green\"], [\"Blue\"]])\n",
        "encoder = OneHotEncoder()\n",
        "encoded_data = encoder.fit_transform(categories).toarray()\n",
        "\n",
        "print(encoded_data)"
      ],
      "metadata": {
        "colab": {
          "base_uri": "https://localhost:8080/"
        },
        "id": "0u7Bvy46gL5E",
        "outputId": "d831270b-30d7-402f-dacb-c547a509d7ed"
      },
      "execution_count": null,
      "outputs": [
        {
          "output_type": "stream",
          "name": "stdout",
          "text": [
            "[[0. 0. 1.]\n",
            " [0. 1. 0.]\n",
            " [1. 0. 0.]]\n"
          ]
        }
      ]
    },
    {
      "cell_type": "markdown",
      "source": [
        "(ii) Label Encoding (LabelEncoder)\n",
        "\n",
        "Assigns numeric values to categories (Red → 0, Green → 1, Blue → 2).\n",
        "\n",
        "Useful for Tree-based models (Random Forest, XGBoost)."
      ],
      "metadata": {
        "id": "Tvf2YwxugWwA"
      }
    },
    {
      "cell_type": "code",
      "source": [
        "from sklearn.preprocessing import LabelEncoder\n",
        "\n",
        "encoder = LabelEncoder()\n",
        "encoded_labels = encoder.fit_transform([\"Red\", \"Green\", \"Blue\", \"Green\"])\n",
        "\n",
        "print(encoded_labels)\n"
      ],
      "metadata": {
        "colab": {
          "base_uri": "https://localhost:8080/"
        },
        "id": "ddLzUPb6gUs3",
        "outputId": "a5a47a4b-8614-40f6-9135-24aa44ea5469"
      },
      "execution_count": null,
      "outputs": [
        {
          "output_type": "stream",
          "name": "stdout",
          "text": [
            "[2 1 0 1]\n"
          ]
        }
      ]
    },
    {
      "cell_type": "markdown",
      "source": [
        "4. Handling Missing Values (Imputer)\n",
        "\n",
        "(i) SimpleImputer (Replacing NaN with Mean, Median, or Mode)\n",
        "\n",
        "Useful when dealing with missing numerical values."
      ],
      "metadata": {
        "id": "-Xv8VCQJglfu"
      }
    },
    {
      "cell_type": "code",
      "source": [
        "from sklearn.impute import SimpleImputer\n",
        "import numpy as np\n",
        "\n",
        "data = np.array([[10, np.nan], [15, 300], [20, 400]])\n",
        "imputer = SimpleImputer(strategy=\"mean\")\n",
        "imputed_data = imputer.fit_transform(data)\n",
        "\n",
        "print(imputed_data)"
      ],
      "metadata": {
        "colab": {
          "base_uri": "https://localhost:8080/"
        },
        "id": "NbHioJWnggy1",
        "outputId": "a145c298-3923-4d42-af9f-d5b28c5c18bd"
      },
      "execution_count": null,
      "outputs": [
        {
          "output_type": "stream",
          "name": "stdout",
          "text": [
            "[[ 10. 350.]\n",
            " [ 15. 300.]\n",
            " [ 20. 400.]]\n"
          ]
        }
      ]
    },
    {
      "cell_type": "markdown",
      "source": [
        "5. Binarization (Binarizer)\n",
        "\n",
        "Converts numerical values into 0 and 1 based on a threshold.\n",
        "\n",
        "Useful for feature engineering in classification tasks."
      ],
      "metadata": {
        "id": "s9oZPvuPgrv3"
      }
    },
    {
      "cell_type": "code",
      "source": [
        "\n",
        "from sklearn.impute import SimpleImputer\n",
        "imputer = SimpleImputer(strategy=\"mean\")\n",
        "data = imputer.fit_transform(data)\n",
        "\n",
        "from sklearn.preprocessing import Binarizer\n",
        "\n",
        "binarizer = Binarizer(threshold=15)\n",
        "binary_data = binarizer.fit_transform(data)\n",
        "\n",
        "print(binary_data)"
      ],
      "metadata": {
        "colab": {
          "base_uri": "https://localhost:8080/"
        },
        "id": "9DGOJsVegqxp",
        "outputId": "01c1bb92-ece3-40dc-cf77-bfbd5367b39f"
      },
      "execution_count": null,
      "outputs": [
        {
          "output_type": "stream",
          "name": "stdout",
          "text": [
            "[[0. 1.]\n",
            " [0. 1.]\n",
            " [1. 1.]]\n"
          ]
        }
      ]
    },
    {
      "cell_type": "markdown",
      "source": [
        "**Q9. What is a Test set?**"
      ],
      "metadata": {
        "id": "XMELQmNjhuS9"
      }
    },
    {
      "cell_type": "markdown",
      "source": [
        "In Machine Learning, a Test Set is a subset of the dataset that is used to evaluate the performance of a trained model. It helps to measure how well the model generalizes to unseen data.\n",
        "\n",
        "Why is a Test Set Important?\n",
        "\n",
        "It assesses the model’s performance on new, unseen data.\n",
        "It prevents overfitting, ensuring the model does not just memorize training data.\n",
        "It provides a realistic estimate of how the model will perform in the real world.\n",
        "\n",
        "Training vs. Test Set\n",
        "\n",
        "| Training Set  | \tTest Set |\n",
        "|---------------|------------|\n",
        "| Used to train the model  |\t Used to evaluate the trained model\n",
        "| The model learns patterns from this data \t|  The model does not see this data during training\n",
        "| Typically 70-80% of the dataset\t |  Typically 20-30% of the dataset\n"
      ],
      "metadata": {
        "id": "LyjnsxYWhzUA"
      }
    },
    {
      "cell_type": "code",
      "source": [
        "from sklearn.model_selection import train_test_split\n",
        "from sklearn.datasets import load_iris\n",
        "\n",
        "# Load sample dataset\n",
        "iris = load_iris()\n",
        "X = iris.data  # Features\n",
        "y = iris.target  # Target variable\n",
        "\n",
        "# Split data into training (80%) and test (20%) sets\n",
        "X_train, X_test, y_train, y_test = train_test_split(X, y, test_size=0.2, random_state=42)\n",
        "\n",
        "print(\"Training Set Size:\", X_train.shape)\n",
        "print(\"Test Set Size:\", X_test.shape)"
      ],
      "metadata": {
        "colab": {
          "base_uri": "https://localhost:8080/"
        },
        "id": "wtX8R-LwgxhG",
        "outputId": "a1e51011-65a5-4c59-ddd8-d1a2e699f3ad"
      },
      "execution_count": null,
      "outputs": [
        {
          "output_type": "stream",
          "name": "stdout",
          "text": [
            "Training Set Size: (120, 4)\n",
            "Test Set Size: (30, 4)\n"
          ]
        }
      ]
    },
    {
      "cell_type": "markdown",
      "source": [
        "**Q10. How do we split data for model fitting (training and testing) in Python?\n",
        "How do you approach a Machine Learning problem?**"
      ],
      "metadata": {
        "id": "YnqVYT69Inlg"
      }
    },
    {
      "cell_type": "markdown",
      "source": [
        "In Python, we use train_test_split from sklearn.model_selection to split data into training and testing sets.\n",
        "\n",
        "Example:"
      ],
      "metadata": {
        "id": "VZYlIi71IvoF"
      }
    },
    {
      "cell_type": "code",
      "source": [
        "from sklearn.model_selection import train_test_split\n",
        "import pandas as pd\n",
        "\n",
        "# Sample dataset\n",
        "data = pd.DataFrame({\n",
        "    'Feature1': [10, 20, 30, 40, 50, 60, 70, 80, 90, 100],\n",
        "    'Feature2': [15, 25, 35, 45, 55, 65, 75, 85, 95, 105],\n",
        "    'Target': [0, 1, 0, 1, 0, 1, 0, 1, 0, 1]\n",
        "})\n",
        "\n",
        "# Splitting features and target variable\n",
        "X = data[['Feature1', 'Feature2']]\n",
        "y = data['Target']\n",
        "\n",
        "# Split into 80% training and 20% testing data\n",
        "X_train, X_test, y_train, y_test = train_test_split(X, y, test_size=0.2, random_state=42)\n",
        "\n",
        "print(\"Training set size:\", X_train.shape)\n",
        "print(\"Testing set size:\", X_test.shape)"
      ],
      "metadata": {
        "colab": {
          "base_uri": "https://localhost:8080/"
        },
        "id": "U9lA0m-GIgO8",
        "outputId": "c1cbf7f5-cc8a-479f-cce0-da684cf58505"
      },
      "execution_count": null,
      "outputs": [
        {
          "output_type": "stream",
          "name": "stdout",
          "text": [
            "Training set size: (8, 2)\n",
            "Testing set size: (2, 2)\n"
          ]
        }
      ]
    },
    {
      "cell_type": "markdown",
      "source": [
        "Explanation:\n",
        "- test_size=0.2 → 20% of the data is reserved for testing.\n",
        "- random_state=42 → Ensures reproducibility.\n",
        "- X_train, X_test, y_train, y_test → Contains the split dataset.\n",
        "\n",
        "How to Approach a Machine Learning Problem?\n",
        "\n",
        "1. **Problem Understanding & Data Collection**\n",
        "\n",
        "- Define the objective: What problem are you solving?\n",
        "- Collect data from sources (CSV, databases, APIs, etc.).\n",
        "- Understand business and domain knowledge.\n",
        "\n",
        "2. **Exploratory Data Analysis (EDA)**\n",
        "\n",
        "- Understand dataset structure (df.info(), df.describe()).\n",
        "- Check for missing values (df.isnull().sum()).\n",
        "- Identify outliers and distribution.\n",
        "- Visualize data using Matplotlib/Seaborn.\n",
        "\n",
        "3. **Data Preprocessing & Feature Engineering**\n",
        "\n",
        "- Handle missing values (imputation or removal).\n",
        "- Encode categorical variables (One-Hot Encoding, Label Encoding).\n",
        "- Scale numerical features (Standardization, Normalization).\n",
        "- Feature selection (remove redundant/unnecessary features).\n",
        "\n",
        "4. **Splitting Data**\n",
        "\n",
        "- Train-Test Split: Divide data into training & testing sets.\n",
        "- Cross-Validation: Use KFold or StratifiedKFold for better generalization.\n",
        "\n",
        "5. **Model Selection & Training**\n",
        "\n",
        "- Choose a suitable algorithm based on the problem type:\n",
        "- Classification: Logistic Regression, Decision Trees, Random Forest, etc.\n",
        "- Regression: Linear Regression, XGBoost, etc.\n",
        "- Clustering: K-Means, DBSCAN.\n",
        "- Deep Learning: CNN, RNN, Transformers.\n",
        "- Train the model on the training set.\n",
        "\n",
        "6. **Model Evaluation**\n",
        "\n",
        "- Check performance using metrics like:\n",
        "- Classification: Accuracy, Precision, Recall, F1-score, ROC-AUC.\n",
        "- Regression: RMSE, MAE, R² score.\n",
        "- Tune hyperparameters using GridSearchCV or RandomizedSearchCV.\n",
        "\n",
        "7. **Deployment & Monitoring**\n",
        "\n",
        "- Deploy the model using Flask, FastAPI, or Streamlit.\n",
        "- Monitor performance over time."
      ],
      "metadata": {
        "id": "gMKtYSg3I79X"
      }
    },
    {
      "cell_type": "markdown",
      "source": [
        "**Q11. Why do we have to perform EDA before fitting a model to the data?**"
      ],
      "metadata": {
        "id": "Pxl1_fl5J6Xz"
      }
    },
    {
      "cell_type": "markdown",
      "source": [
        "**Exploratory Data Analysis (EDA)** is essential before training a machine learning model because it helps us understand the data, detect issues, and make informed preprocessing decisions. Here’s why EDA is important:\n",
        "\n",
        "1. Identifying Data Quality Issues:\n",
        "\n",
        "- Detects missing values, duplicate records, or inconsistent data entries.\n",
        "- Helps in deciding whether to fill, drop, or transform missing values.\n",
        "\n",
        "2. Understanding Data Distribution:\n",
        "\n",
        "- Reveals patterns, trends, and outliers using visualizations like histograms, box plots, and scatter plots.\n",
        "- Helps in deciding transformations like normalization or scaling.\n",
        "\n",
        "3. Feature Selection and Engineering:\n",
        "\n",
        "- Identifies highly correlated features to prevent multicollinearity.\n",
        "- Helps in creating new meaningful features (feature engineering) for better model performance.\n",
        "\n",
        "4. Detecting Outliers:\n",
        "\n",
        "- Outliers can negatively impact models, especially linear regression and clustering.\n",
        "- EDA helps determine whether to remove, transform, or keep outliers.\n",
        "\n",
        "5. Choosing the Right Model and Algorithm:\n",
        "\n",
        "- Understanding data types (categorical, numerical) helps in selecting the best machine learning model.\n",
        "- Helps in determining whether feature scaling is required."
      ],
      "metadata": {
        "id": "L6XR2BPgJ9NZ"
      }
    },
    {
      "cell_type": "markdown",
      "source": [
        "**Q12. What is correlation**?"
      ],
      "metadata": {
        "id": "GJ0yUhuTGRcb"
      }
    },
    {
      "cell_type": "markdown",
      "source": [
        "**Correlation** is a statistical measure that describes the relationship between two variables. It indicates how changes in one variable are associated with changes in another.\n",
        "\n",
        "**Types of Correlation:**\n",
        "\n",
        "1. Positive Correlation 📈:\n",
        "When one variable increases, the other variable also increases.\n",
        "Example: As temperature increases, ice cream sales increase.\n",
        "2. Negative Correlation 📉:\n",
        "When one variable increases, the other variable decreases.\n",
        "Example: As speed of a vehicle increases, travel time decreases.\n",
        "3. No Correlation ⚖️:\n",
        "No relationship between two variables.\n",
        "Example: The number of shoes you own vs. your exam score.\n",
        "**How to Measure Correlation?**\n",
        "\n",
        "The Pearson correlation coefficient (r) is commonly used, ranging from -1 to +1:\n",
        "\n",
        "- r = +1 → Perfect positive correlation\n",
        "- r = -1 → Perfect negative correlation\n",
        "- r = 0 → No correlation"
      ],
      "metadata": {
        "id": "LWhy1O95GUPB"
      }
    },
    {
      "cell_type": "code",
      "source": [
        "#Calculate Correlation in Python?\n",
        "#Using Pandas:\n",
        "\n",
        "import pandas as pd\n",
        "\n",
        "data = {'A': [1, 2, 3, 4, 5],\n",
        "        'B': [2, 4, 6, 8, 10],\n",
        "        'C': [10, 9, 7, 5, 2]}\n",
        "\n",
        "df = pd.DataFrame(data)\n",
        "\n",
        "# Compute correlation matrix\n",
        "correlation_matrix = df.corr()\n",
        "print(correlation_matrix)\n"
      ],
      "metadata": {
        "colab": {
          "base_uri": "https://localhost:8080/"
        },
        "id": "A1VGRdDBDLhs",
        "outputId": "188193ab-791b-4c6e-c273-e4a863aada81"
      },
      "execution_count": 7,
      "outputs": [
        {
          "output_type": "stream",
          "name": "stdout",
          "text": [
            "          A         B         C\n",
            "A  1.000000  1.000000 -0.985329\n",
            "B  1.000000  1.000000 -0.985329\n",
            "C -0.985329 -0.985329  1.000000\n"
          ]
        }
      ]
    },
    {
      "cell_type": "markdown",
      "source": [
        "**Q13. What does negative correlation mean?**"
      ],
      "metadata": {
        "id": "PpxuZHEoHoLP"
      }
    },
    {
      "cell_type": "markdown",
      "source": [
        "Negative correlation means that as one variable increases, the other variable decreases. In other words, they move in opposite directions.\n",
        "\n",
        "**Example of Negative Correlation**\n",
        "1. Speed vs. Travel Time 🚗\n",
        "- As speed increases, the time taken to reach the destination decreases.\n",
        "2. Temperature vs. Coffee Sales ☕\n",
        "- As temperature rises, coffee sales decrease (people prefer cold drinks instead).\n",
        "3. Exercise vs. Body Fat 🏋️‍♀️\n",
        "- As exercise frequency increases, body fat percentage decreases.\n",
        "\n",
        "**How to Measure Negative Correlation?**\n",
        "\n",
        "The Pearson correlation coefficient (r) helps measure correlation:\n",
        "\n",
        "- r = -1 → Perfect negative correlation (strongest)\n",
        "- r = -0.5 → Moderate negative correlation\n",
        "- r = 0 → No correlation"
      ],
      "metadata": {
        "id": "3ZxnCuG3HsJY"
      }
    },
    {
      "cell_type": "code",
      "source": [
        "import pandas as pd\n",
        "\n",
        "# Sample data\n",
        "data = {'Exercise Hours': [1, 2, 3, 4, 5],\n",
        "        'Body Fat %': [30, 28, 25, 22, 18]}\n",
        "\n",
        "df = pd.DataFrame(data)\n",
        "\n",
        "# Compute correlation\n",
        "correlation = df.corr()\n",
        "print(correlation)"
      ],
      "metadata": {
        "colab": {
          "base_uri": "https://localhost:8080/"
        },
        "id": "M2aNNnY6HiwI",
        "outputId": "704498f3-567f-4a31-eabc-c79f418d8dca"
      },
      "execution_count": 8,
      "outputs": [
        {
          "output_type": "stream",
          "name": "stdout",
          "text": [
            "                Exercise Hours  Body Fat %\n",
            "Exercise Hours        1.000000   -0.993399\n",
            "Body Fat %           -0.993399    1.000000\n"
          ]
        }
      ]
    },
    {
      "cell_type": "markdown",
      "source": [
        "If the correlation value is negative, it confirms a negative relationship between variables."
      ],
      "metadata": {
        "id": "bAk14S94IWMP"
      }
    },
    {
      "cell_type": "markdown",
      "source": [
        "**Q14. How can you find correlation between variables in Python?**"
      ],
      "metadata": {
        "id": "I4DrOu0_IYYw"
      }
    },
    {
      "cell_type": "markdown",
      "source": [
        "In Python, you can use Pandas and Seaborn to find and visualize the correlation between variables.\n",
        "\n",
        "1. **Using corr() Method in Pandas**\n",
        "\n",
        "The .corr() function calculates the correlation between numerical variables in a DataFrame."
      ],
      "metadata": {
        "id": "LPRyzdkjIg5B"
      }
    },
    {
      "cell_type": "code",
      "source": [
        "import pandas as pd\n",
        "\n",
        "# Sample dataset\n",
        "data = {'Temperature': [30, 35, 40, 45, 50],\n",
        "        'Ice Cream Sales': [500, 600, 750, 900, 1100],\n",
        "        'Jacket Sales': [200, 180, 150, 120, 90]}\n",
        "\n",
        "df = pd.DataFrame(data)\n",
        "\n",
        "# Compute correlation\n",
        "correlation_matrix = df.corr()\n",
        "print(correlation_matrix)"
      ],
      "metadata": {
        "colab": {
          "base_uri": "https://localhost:8080/"
        },
        "id": "7C_wYvT0IR-S",
        "outputId": "44aff82d-6fe5-4774-99dd-2a97e99efd56"
      },
      "execution_count": 9,
      "outputs": [
        {
          "output_type": "stream",
          "name": "stdout",
          "text": [
            "                 Temperature  Ice Cream Sales  Jacket Sales\n",
            "Temperature         1.000000         0.993399     -0.997459\n",
            "Ice Cream Sales     0.993399         1.000000     -0.997952\n",
            "Jacket Sales       -0.997459        -0.997952      1.000000\n"
          ]
        }
      ]
    },
    {
      "cell_type": "markdown",
      "source": [
        "2. **Using Seaborn’s Heatmap for Visualization**\n",
        "\n",
        "You can visualize the correlation matrix using a heatmap."
      ],
      "metadata": {
        "id": "ViEYfAUWI1HO"
      }
    },
    {
      "cell_type": "code",
      "source": [
        "import seaborn as sns\n",
        "import matplotlib.pyplot as plt\n",
        "\n",
        "# Create a heatmap\n",
        "plt.figure(figsize=(6,4))\n",
        "sns.heatmap(df.corr(), annot=True, cmap=\"coolwarm\", fmt=\".2f\")\n",
        "plt.title(\"Correlation Matrix Heatmap\")\n",
        "plt.show()"
      ],
      "metadata": {
        "colab": {
          "base_uri": "https://localhost:8080/",
          "height": 391
        },
        "id": "AB-jSuRYIsvm",
        "outputId": "8f70227f-a052-44f4-aed2-fa43e79ed0c7"
      },
      "execution_count": 10,
      "outputs": [
        {
          "output_type": "display_data",
          "data": {
            "text/plain": [
              "<Figure size 600x400 with 2 Axes>"
            ],
            "image/png": "[encoded data removed]"
          },
          "metadata": {}
        }
      ]
    },
    {
      "cell_type": "markdown",
      "source": [
        "3. **Finding Correlation Between Two Specific Variables**\n",
        "\n",
        "If you want to find correlation between only two variables, use:"
      ],
      "metadata": {
        "id": "_r36YW-YI71a"
      }
    },
    {
      "cell_type": "code",
      "source": [
        "df['Temperature'].corr(df['Ice Cream Sales'])"
      ],
      "metadata": {
        "colab": {
          "base_uri": "https://localhost:8080/"
        },
        "id": "XnIO8BX2I5bB",
        "outputId": "e9ecd31a-6e13-4ce4-d563-917526e82da6"
      },
      "execution_count": 11,
      "outputs": [
        {
          "output_type": "execute_result",
          "data": {
            "text/plain": [
              "0.9933992677987828"
            ]
          },
          "metadata": {},
          "execution_count": 11
        }
      ]
    },
    {
      "cell_type": "markdown",
      "source": [
        "**Q15. What is causation? Explain difference between correlation and causation with an example.**"
      ],
      "metadata": {
        "id": "1qG8eGNKJAiZ"
      }
    },
    {
      "cell_type": "markdown",
      "source": [
        "**Causation** (also called causality) means that one variable directly affects another. If A causes B, then changing A will result in a change in B.\n",
        "\n",
        "For example,\n",
        "\n",
        "- More studying leads to higher grades. (Studying causes better performance.)\n",
        "- More exercise leads to better health. (Exercise causes health improvement.)\n",
        "\n",
        "**Correlation vs. Causation**\n",
        "\n",
        "|Feature\t|Correlation\t|Causation |\n",
        "|---------|-------------|----------|\n",
        "Definition|\tMeasures the relationship between two variables\t|One variable directly affects another\n",
        "Direction\t|Can be positive, negative, or zero\t|Always has a cause-and-effect relationship\n",
        "Example\t|Ice cream sales increase when temperature rises\t|Exercising leads to weight loss\n",
        "Does one variable change the other?\t|No, they change together, but one doesn’t cause the other\t|Yes, changing one directly impacts the other\n",
        "Statistical Measurement?\t|Correlation coefficient (e.g., 0.85 or -0.75)\t|Experimental analysis or logical reasoning\n"
      ],
      "metadata": {
        "id": "F0XCR1DnJH7J"
      }
    },
    {
      "cell_type": "markdown",
      "source": [
        "**Q16. What is an Optimizer? What are different types of optimizers? Explain each with an example.**"
      ],
      "metadata": {
        "id": "IMDatG7hJ89Y"
      }
    },
    {
      "cell_type": "markdown",
      "source": [
        "An **optimizer** is an algorithm used in machine learning and deep learning to minimize the loss function by updating the model's weights. The goal is to improve the model's performance by adjusting parameters efficiently.\n",
        "\n",
        "**Types of Optimizers in Machine Learning**\n",
        "\n",
        "1. Gradient Descent (GD)\n",
        "2. Stochastic Gradient Descent (SGD)\n",
        "3. Mini-Batch Gradient Descent\n",
        "4. Momentum-Based Optimizers (SGD with Momentum, Nesterov Accelerated Gradient)\n",
        "5. Adaptive Optimizers (AdaGrad, RMSprop, Adam, Nadam, AdamW)\n",
        "\n",
        " **1. Gradient Descent (GD**)\n",
        "Updates weights by calculating the gradient of the loss function.\n",
        "Requires all data for one update (slow for large datasets)."
      ],
      "metadata": {
        "id": "hwK4MITwKCOi"
      }
    },
    {
      "cell_type": "code",
      "source": [
        "import numpy as np\n",
        "\n",
        "# Example loss function: f(w) = w^2\n",
        "def loss(w):\n",
        "    return w**2\n",
        "\n",
        "# Gradient: df/dw = 2w\n",
        "def gradient(w):\n",
        "    return 2 * w\n",
        "\n",
        "# Gradient Descent\n",
        "w = 10  # Initial weight\n",
        "learning_rate = 0.1\n",
        "for i in range(10):\n",
        "    w = w - learning_rate * gradient(w)\n",
        "    print(f\"Iteration {i+1}: w = {w}\")"
      ],
      "metadata": {
        "colab": {
          "base_uri": "https://localhost:8080/"
        },
        "id": "-ZvqfjyEI_52",
        "outputId": "999a2509-9db9-4cd7-cae2-b6ba1bd4ecbd"
      },
      "execution_count": 12,
      "outputs": [
        {
          "output_type": "stream",
          "name": "stdout",
          "text": [
            "Iteration 1: w = 8.0\n",
            "Iteration 2: w = 6.4\n",
            "Iteration 3: w = 5.12\n",
            "Iteration 4: w = 4.096\n",
            "Iteration 5: w = 3.2768\n",
            "Iteration 6: w = 2.62144\n",
            "Iteration 7: w = 2.0971520000000003\n",
            "Iteration 8: w = 1.6777216000000004\n",
            "Iteration 9: w = 1.3421772800000003\n",
            "Iteration 10: w = 1.0737418240000003\n"
          ]
        }
      ]
    },
    {
      "cell_type": "markdown",
      "source": [
        "**2. Stochastic Gradient Descent (SGD)**\n",
        "\n",
        "Updates weights after each data point (faster but noisy updates).\n",
        "Works well for large datasets."
      ],
      "metadata": {
        "id": "wVqFP6o3Ku9Z"
      }
    },
    {
      "cell_type": "code",
      "source": [
        "from sklearn.linear_model import SGDRegressor\n",
        "\n",
        "model = SGDRegressor(learning_rate='constant', eta0=0.01)"
      ],
      "metadata": {
        "id": "7Qrg28bwKsMc"
      },
      "execution_count": 14,
      "outputs": []
    },
    {
      "cell_type": "markdown",
      "source": [
        "**3. Mini-Batch Gradient Descent**\n",
        "\n",
        "Updates weights after a small batch of data instead of full dataset.\n",
        "Balances efficiency and stability."
      ],
      "metadata": {
        "id": "tEhcGowmK4ol"
      }
    },
    {
      "cell_type": "code",
      "source": [
        "from tensorflow.keras.optimizers import SGD\n",
        "\n",
        "optimizer = SGD(learning_rate=0.01)"
      ],
      "metadata": {
        "id": "9oc7z2CaKzr9"
      },
      "execution_count": 15,
      "outputs": []
    },
    {
      "cell_type": "markdown",
      "source": [
        "**4. Momentum-Based Optimizers**\n",
        "\n",
        "SGD with Momentum: Uses past gradients to speed up learning.\n",
        "Nesterov Accelerated Gradient (NAG): A refined version of momentum."
      ],
      "metadata": {
        "id": "pMVvWdn3LAWR"
      }
    },
    {
      "cell_type": "code",
      "source": [
        "import torch\n",
        "import torch.nn as nn\n",
        "import torch.optim as optim\n",
        "\n",
        "# Define a simple PyTorch model\n",
        "class Model(nn.Module):\n",
        "    def __init__(self):\n",
        "        super(Model, self).__init__()\n",
        "        self.linear = nn.Linear(1, 1)  # Simple linear model\n",
        "\n",
        "    def forward(self, x):\n",
        "        return self.linear(x)\n",
        "\n",
        "# Create model instance\n",
        "model = Model()\n",
        "\n",
        "# Corrected optimizer usage\n",
        "optimizer = optim.SGD(model.parameters(), lr=0.01, momentum=0.9)\n",
        "print(\"Optimizer initialized successfully!\")"
      ],
      "metadata": {
        "colab": {
          "base_uri": "https://localhost:8080/"
        },
        "id": "4w63-biMK8lj",
        "outputId": "43a145ae-a876-4eb9-fd5e-5334a7d63bf9"
      },
      "execution_count": 20,
      "outputs": [
        {
          "output_type": "stream",
          "name": "stdout",
          "text": [
            "Optimizer initialized successfully!\n"
          ]
        }
      ]
    },
    {
      "cell_type": "markdown",
      "source": [
        "**5. Adaptive Optimizers**\n",
        "\n",
        "AdaGrad: Adjusts learning rate per parameter.\n",
        "RMSprop: Works well for non-stationary problems.\n",
        "Adam: Combines momentum and RMSprop (most commonly used).\n",
        "Nadam & AdamW: Variants of Adam with slight improvements."
      ],
      "metadata": {
        "id": "hB-mJK80LH5N"
      }
    },
    {
      "cell_type": "code",
      "source": [
        "from tensorflow.keras.optimizers import Adam\n",
        "optimizer = Adam(learning_rate=0.001)\n"
      ],
      "metadata": {
        "id": "pPZmdKwyLFZW"
      },
      "execution_count": 21,
      "outputs": []
    },
    {
      "cell_type": "markdown",
      "source": [
        "**Q17. What is sklearn.linear_model ?**\n"
      ],
      "metadata": {
        "id": "I5IouAw3Luyn"
      }
    },
    {
      "cell_type": "markdown",
      "source": [
        "# **sklearn.linear_model in Scikit-Learn**\n",
        "sklearn.linear_model is a module in Scikit-Learn that provides various linear models for regression and classification tasks. These models assume a linear relationship between input features (X) and the target variable (y).\n",
        "\n",
        "# **Types of Models** in sklearn.linear_model\n",
        "Here are some commonly used models from this module:\n",
        "\n",
        "1. **Linear Regression (LinearRegression)**\n",
        "\n",
        "Used for predicting continuous values by fitting a straight line to the data."
      ],
      "metadata": {
        "id": "Svg93ZPULyz_"
      }
    },
    {
      "cell_type": "code",
      "source": [
        "from sklearn.linear_model import LinearRegression\n",
        "import numpy as np\n",
        "\n",
        "# Sample data\n",
        "X = np.array([[1], [2], [3], [4], [5]])\n",
        "y = np.array([2, 4, 5, 4, 5])\n",
        "\n",
        "# Create and train the model\n",
        "model = LinearRegression()\n",
        "model.fit(X, y)\n",
        "\n",
        "# Make predictions\n",
        "predictions = model.predict([[6]])\n",
        "print(\"Prediction for X=6:\", predictions)"
      ],
      "metadata": {
        "colab": {
          "base_uri": "https://localhost:8080/"
        },
        "id": "0EEgNshVLnP5",
        "outputId": "48b4160b-c6a9-4934-9bff-00ea61677463"
      },
      "execution_count": 22,
      "outputs": [
        {
          "output_type": "stream",
          "name": "stdout",
          "text": [
            "Prediction for X=6: [5.8]\n"
          ]
        }
      ]
    },
    {
      "cell_type": "markdown",
      "source": [
        "2. **Logistic Regression (LogisticRegression)**\n",
        "\n",
        "Used for binary/multiclass classification problems."
      ],
      "metadata": {
        "id": "Porjv6gbMNJP"
      }
    },
    {
      "cell_type": "code",
      "source": [
        "from sklearn.linear_model import LogisticRegression\n",
        "\n",
        "# Sample data\n",
        "X = [[1], [2], [3], [4], [5]]\n",
        "y = [0, 0, 1, 1, 1]  # Binary classification (0 or 1)\n",
        "\n",
        "# Create and train the model\n",
        "model = LogisticRegression()\n",
        "model.fit(X, y)\n",
        "\n",
        "# Make predictions\n",
        "predictions = model.predict([[3]])\n",
        "print(\"Predicted class for X=3:\", predictions)"
      ],
      "metadata": {
        "colab": {
          "base_uri": "https://localhost:8080/"
        },
        "id": "Ec5tPapbMK9f",
        "outputId": "14243a9d-5e5a-47bc-e2ee-1a81a2925f72"
      },
      "execution_count": 23,
      "outputs": [
        {
          "output_type": "stream",
          "name": "stdout",
          "text": [
            "Predicted class for X=3: [1]\n"
          ]
        }
      ]
    },
    {
      "cell_type": "markdown",
      "source": [
        "3. **Stochastic Gradient Descent (SGDRegressor & SGDClassifier)**\n",
        "\n",
        "Used for large datasets where gradient descent optimization is required."
      ],
      "metadata": {
        "id": "-i1L0o3EMV23"
      }
    },
    {
      "cell_type": "code",
      "source": [
        "#SGDRegressor (for Regression)\n",
        "from sklearn.linear_model import SGDRegressor\n",
        "\n",
        "model = SGDRegressor(learning_rate='constant', eta0=0.01)"
      ],
      "metadata": {
        "id": "mHnauIfoMTu1"
      },
      "execution_count": 24,
      "outputs": []
    },
    {
      "cell_type": "code",
      "source": [
        "#SGDClassifier (for Classification)\n",
        "from sklearn.linear_model import SGDClassifier\n",
        "\n",
        "model = SGDClassifier(loss=\"hinge\")  # Hinge loss is used for SVM"
      ],
      "metadata": {
        "id": "GenPJ-4qMaaO"
      },
      "execution_count": 25,
      "outputs": []
    },
    {
      "cell_type": "markdown",
      "source": [
        "4. **Ridge & Lasso Regression**\n",
        "\n",
        "- Ridge Regression (Ridge): Uses L2 regularization to reduce overfitting.\n",
        "- Lasso Regression (Lasso): Uses L1 regularization, which can shrink some coefficients to zero (feature selection)."
      ],
      "metadata": {
        "id": "uZjpVtCMMmHw"
      }
    },
    {
      "cell_type": "code",
      "source": [
        "from sklearn.linear_model import Ridge, Lasso\n",
        "\n",
        "ridge = Ridge(alpha=1.0)  # L2 regularization\n",
        "lasso = Lasso(alpha=0.1)  # L1 regularization\n"
      ],
      "metadata": {
        "id": "Pj2pXAySMjsf"
      },
      "execution_count": 26,
      "outputs": []
    },
    {
      "cell_type": "markdown",
      "source": [
        "**Q18. What does model.fit() do? What arguments must be given?**\n"
      ],
      "metadata": {
        "id": "PiN3XakIMxwl"
      }
    },
    {
      "cell_type": "markdown",
      "source": [
        "The .fit() method in Scikit-Learn trains the model by learning patterns from the given data. It adjusts the model's internal parameters (like coefficients and intercepts) to best fit the provided input (X) and target (y).\n",
        "\n",
        "**How It Works:**\n",
        "\n",
        "Takes input features (X) and target values (y).\n",
        "Computes the necessary parameters based on the selected model.\n",
        "Stores these learned parameters for making future predictions.\n",
        "Arguments Required in fit()\n",
        "1. X (Input Features)\n",
        "A 2D array (or DataFrame) containing the feature values.\n",
        "Shape: (n_samples, n_features), where:\n",
        "n_samples = number of data points.\n",
        "n_features = number of input variables.\n",
        "2. y (Target Variable)\n",
        "A 1D array (for regression) or categorical labels (for classification).\n",
        "Shape: (n_samples,), matching the number of rows in X."
      ],
      "metadata": {
        "id": "96Ta9gvzM4EA"
      }
    },
    {
      "cell_type": "code",
      "source": [
        "#Linear Regression\n",
        "#example\n",
        "from sklearn.linear_model import LinearRegression\n",
        "import numpy as np\n",
        "\n",
        "# Sample data\n",
        "X = np.array([[1], [2], [3], [4], [5]])  # Feature values\n",
        "y = np.array([2, 4, 5, 4, 5])  # Target values\n",
        "\n",
        "# Create and train the model\n",
        "model = LinearRegression()\n",
        "model.fit(X, y)  # Training the model\n",
        "\n",
        "# Model parameters\n",
        "print(\"Intercept:\", model.intercept_)\n",
        "print(\"Coefficient:\", model.coef_)"
      ],
      "metadata": {
        "colab": {
          "base_uri": "https://localhost:8080/"
        },
        "id": "hKk1vnKdMtgS",
        "outputId": "f756fe8e-604c-4f0a-de12-67ca9164872f"
      },
      "execution_count": 27,
      "outputs": [
        {
          "output_type": "stream",
          "name": "stdout",
          "text": [
            "Intercept: 2.2\n",
            "Coefficient: [0.6]\n"
          ]
        }
      ]
    },
    {
      "cell_type": "code",
      "source": [
        "#Logistic Regression (Classification)\n",
        "#example\n",
        "from sklearn.linear_model import LogisticRegression\n",
        "\n",
        "X = [[1], [2], [3], [4], [5]]\n",
        "y = [0, 0, 1, 1, 1]  # Binary target labels\n",
        "\n",
        "model = LogisticRegression()\n",
        "model.fit(X, y)  # Training the classifier"
      ],
      "metadata": {
        "colab": {
          "base_uri": "https://localhost:8080/",
          "height": 57
        },
        "id": "qLEmGI6DOc9r",
        "outputId": "3943032b-3209-4016-f045-04cf0e0a9541"
      },
      "execution_count": 28,
      "outputs": [
        {
          "output_type": "execute_result",
          "data": {
            "text/plain": [
              "LogisticRegression()"
            ],
            "text/html": [
              "<style>#sk-container-id-1 {\n",
              "  /* Definition of color scheme common for light and dark mode */\n",
              "  --sklearn-color-text: #000;\n",
              "  --sklearn-color-text-muted: #666;\n",
              "  --sklearn-color-line: gray;\n",
              "  /* Definition of color scheme for unfitted estimators */\n",
              "  --sklearn-color-unfitted-level-0: #fff5e6;\n",
              "  --sklearn-color-unfitted-level-1: #f6e4d2;\n",
              "  --sklearn-color-unfitted-level-2: #ffe0b3;\n",
              "  --sklearn-color-unfitted-level-3: chocolate;\n",
              "  /* Definition of color scheme for fitted estimators */\n",
              "  --sklearn-color-fitted-level-0: #f0f8ff;\n",
              "  --sklearn-color-fitted-level-1: #d4ebff;\n",
              "  --sklearn-color-fitted-level-2: #b3dbfd;\n",
              "  --sklearn-color-fitted-level-3: cornflowerblue;\n",
              "\n",
              "  /* Specific color for light theme */\n",
              "  --sklearn-color-text-on-default-background: var(--sg-text-color, var(--theme-code-foreground, var(--jp-content-font-color1, black)));\n",
              "  --sklearn-color-background: var(--sg-background-color, var(--theme-background, var(--jp-layout-color0, white)));\n",
              "  --sklearn-color-border-box: var(--sg-text-color, var(--theme-code-foreground, var(--jp-content-font-color1, black)));\n",
              "  --sklearn-color-icon: #696969;\n",
              "\n",
              "  @media (prefers-color-scheme: dark) {\n",
              "    /* Redefinition of color scheme for dark theme */\n",
              "    --sklearn-color-text-on-default-background: var(--sg-text-color, var(--theme-code-foreground, var(--jp-content-font-color1, white)));\n",
              "    --sklearn-color-background: var(--sg-background-color, var(--theme-background, var(--jp-layout-color0, #111)));\n",
              "    --sklearn-color-border-box: var(--sg-text-color, var(--theme-code-foreground, var(--jp-content-font-color1, white)));\n",
              "    --sklearn-color-icon: #878787;\n",
              "  }\n",
              "}\n",
              "\n",
              "#sk-container-id-1 {\n",
              "  color: var(--sklearn-color-text);\n",
              "}\n",
              "\n",
              "#sk-container-id-1 pre {\n",
              "  padding: 0;\n",
              "}\n",
              "\n",
              "#sk-container-id-1 input.sk-hidden--visually {\n",
              "  border: 0;\n",
              "  clip: rect(1px 1px 1px 1px);\n",
              "  clip: rect(1px, 1px, 1px, 1px);\n",
              "  height: 1px;\n",
              "  margin: -1px;\n",
              "  overflow: hidden;\n",
              "  padding: 0;\n",
              "  position: absolute;\n",
              "  width: 1px;\n",
              "}\n",
              "\n",
              "#sk-container-id-1 div.sk-dashed-wrapped {\n",
              "  border: 1px dashed var(--sklearn-color-line);\n",
              "  margin: 0 0.4em 0.5em 0.4em;\n",
              "  box-sizing: border-box;\n",
              "  padding-bottom: 0.4em;\n",
              "  background-color: var(--sklearn-color-background);\n",
              "}\n",
              "\n",
              "#sk-container-id-1 div.sk-container {\n",
              "  /* jupyter's `normalize.less` sets `[hidden] { display: none; }`\n",
              "     but bootstrap.min.css set `[hidden] { display: none !important; }`\n",
              "     so we also need the `!important` here to be able to override the\n",
              "     default hidden behavior on the sphinx rendered scikit-learn.org.\n",
              "     See: https://github.com/scikit-learn/scikit-learn/issues/21755 */\n",
              "  display: inline-block !important;\n",
              "  position: relative;\n",
              "}\n",
              "\n",
              "#sk-container-id-1 div.sk-text-repr-fallback {\n",
              "  display: none;\n",
              "}\n",
              "\n",
              "div.sk-parallel-item,\n",
              "div.sk-serial,\n",
              "div.sk-item {\n",
              "  /* draw centered vertical line to link estimators */\n",
              "  background-image: linear-gradient(var(--sklearn-color-text-on-default-background), var(--sklearn-color-text-on-default-background));\n",
              "  background-size: 2px 100%;\n",
              "  background-repeat: no-repeat;\n",
              "  background-position: center center;\n",
              "}\n",
              "\n",
              "/* Parallel-specific style estimator block */\n",
              "\n",
              "#sk-container-id-1 div.sk-parallel-item::after {\n",
              "  content: \"\";\n",
              "  width: 100%;\n",
              "  border-bottom: 2px solid var(--sklearn-color-text-on-default-background);\n",
              "  flex-grow: 1;\n",
              "}\n",
              "\n",
              "#sk-container-id-1 div.sk-parallel {\n",
              "  display: flex;\n",
              "  align-items: stretch;\n",
              "  justify-content: center;\n",
              "  background-color: var(--sklearn-color-background);\n",
              "  position: relative;\n",
              "}\n",
              "\n",
              "#sk-container-id-1 div.sk-parallel-item {\n",
              "  display: flex;\n",
              "  flex-direction: column;\n",
              "}\n",
              "\n",
              "#sk-container-id-1 div.sk-parallel-item:first-child::after {\n",
              "  align-self: flex-end;\n",
              "  width: 50%;\n",
              "}\n",
              "\n",
              "#sk-container-id-1 div.sk-parallel-item:last-child::after {\n",
              "  align-self: flex-start;\n",
              "  width: 50%;\n",
              "}\n",
              "\n",
              "#sk-container-id-1 div.sk-parallel-item:only-child::after {\n",
              "  width: 0;\n",
              "}\n",
              "\n",
              "/* Serial-specific style estimator block */\n",
              "\n",
              "#sk-container-id-1 div.sk-serial {\n",
              "  display: flex;\n",
              "  flex-direction: column;\n",
              "  align-items: center;\n",
              "  background-color: var(--sklearn-color-background);\n",
              "  padding-right: 1em;\n",
              "  padding-left: 1em;\n",
              "}\n",
              "\n",
              "\n",
              "/* Toggleable style: style used for estimator/Pipeline/ColumnTransformer box that is\n",
              "clickable and can be expanded/collapsed.\n",
              "- Pipeline and ColumnTransformer use this feature and define the default style\n",
              "- Estimators will overwrite some part of the style using the `sk-estimator` class\n",
              "*/\n",
              "\n",
              "/* Pipeline and ColumnTransformer style (default) */\n",
              "\n",
              "#sk-container-id-1 div.sk-toggleable {\n",
              "  /* Default theme specific background. It is overwritten whether we have a\n",
              "  specific estimator or a Pipeline/ColumnTransformer */\n",
              "  background-color: var(--sklearn-color-background);\n",
              "}\n",
              "\n",
              "/* Toggleable label */\n",
              "#sk-container-id-1 label.sk-toggleable__label {\n",
              "  cursor: pointer;\n",
              "  display: flex;\n",
              "  width: 100%;\n",
              "  margin-bottom: 0;\n",
              "  padding: 0.5em;\n",
              "  box-sizing: border-box;\n",
              "  text-align: center;\n",
              "  align-items: start;\n",
              "  justify-content: space-between;\n",
              "  gap: 0.5em;\n",
              "}\n",
              "\n",
              "#sk-container-id-1 label.sk-toggleable__label .caption {\n",
              "  font-size: 0.6rem;\n",
              "  font-weight: lighter;\n",
              "  color: var(--sklearn-color-text-muted);\n",
              "}\n",
              "\n",
              "#sk-container-id-1 label.sk-toggleable__label-arrow:before {\n",
              "  /* Arrow on the left of the label */\n",
              "  content: \"▸\";\n",
              "  float: left;\n",
              "  margin-right: 0.25em;\n",
              "  color: var(--sklearn-color-icon);\n",
              "}\n",
              "\n",
              "#sk-container-id-1 label.sk-toggleable__label-arrow:hover:before {\n",
              "  color: var(--sklearn-color-text);\n",
              "}\n",
              "\n",
              "/* Toggleable content - dropdown */\n",
              "\n",
              "#sk-container-id-1 div.sk-toggleable__content {\n",
              "  max-height: 0;\n",
              "  max-width: 0;\n",
              "  overflow: hidden;\n",
              "  text-align: left;\n",
              "  /* unfitted */\n",
              "  background-color: var(--sklearn-color-unfitted-level-0);\n",
              "}\n",
              "\n",
              "#sk-container-id-1 div.sk-toggleable__content.fitted {\n",
              "  /* fitted */\n",
              "  background-color: var(--sklearn-color-fitted-level-0);\n",
              "}\n",
              "\n",
              "#sk-container-id-1 div.sk-toggleable__content pre {\n",
              "  margin: 0.2em;\n",
              "  border-radius: 0.25em;\n",
              "  color: var(--sklearn-color-text);\n",
              "  /* unfitted */\n",
              "  background-color: var(--sklearn-color-unfitted-level-0);\n",
              "}\n",
              "\n",
              "#sk-container-id-1 div.sk-toggleable__content.fitted pre {\n",
              "  /* unfitted */\n",
              "  background-color: var(--sklearn-color-fitted-level-0);\n",
              "}\n",
              "\n",
              "#sk-container-id-1 input.sk-toggleable__control:checked~div.sk-toggleable__content {\n",
              "  /* Expand drop-down */\n",
              "  max-height: 200px;\n",
              "  max-width: 100%;\n",
              "  overflow: auto;\n",
              "}\n",
              "\n",
              "#sk-container-id-1 input.sk-toggleable__control:checked~label.sk-toggleable__label-arrow:before {\n",
              "  content: \"▾\";\n",
              "}\n",
              "\n",
              "/* Pipeline/ColumnTransformer-specific style */\n",
              "\n",
              "#sk-container-id-1 div.sk-label input.sk-toggleable__control:checked~label.sk-toggleable__label {\n",
              "  color: var(--sklearn-color-text);\n",
              "  background-color: var(--sklearn-color-unfitted-level-2);\n",
              "}\n",
              "\n",
              "#sk-container-id-1 div.sk-label.fitted input.sk-toggleable__control:checked~label.sk-toggleable__label {\n",
              "  background-color: var(--sklearn-color-fitted-level-2);\n",
              "}\n",
              "\n",
              "/* Estimator-specific style */\n",
              "\n",
              "/* Colorize estimator box */\n",
              "#sk-container-id-1 div.sk-estimator input.sk-toggleable__control:checked~label.sk-toggleable__label {\n",
              "  /* unfitted */\n",
              "  background-color: var(--sklearn-color-unfitted-level-2);\n",
              "}\n",
              "\n",
              "#sk-container-id-1 div.sk-estimator.fitted input.sk-toggleable__control:checked~label.sk-toggleable__label {\n",
              "  /* fitted */\n",
              "  background-color: var(--sklearn-color-fitted-level-2);\n",
              "}\n",
              "\n",
              "#sk-container-id-1 div.sk-label label.sk-toggleable__label,\n",
              "#sk-container-id-1 div.sk-label label {\n",
              "  /* The background is the default theme color */\n",
              "  color: var(--sklearn-color-text-on-default-background);\n",
              "}\n",
              "\n",
              "/* On hover, darken the color of the background */\n",
              "#sk-container-id-1 div.sk-label:hover label.sk-toggleable__label {\n",
              "  color: var(--sklearn-color-text);\n",
              "  background-color: var(--sklearn-color-unfitted-level-2);\n",
              "}\n",
              "\n",
              "/* Label box, darken color on hover, fitted */\n",
              "#sk-container-id-1 div.sk-label.fitted:hover label.sk-toggleable__label.fitted {\n",
              "  color: var(--sklearn-color-text);\n",
              "  background-color: var(--sklearn-color-fitted-level-2);\n",
              "}\n",
              "\n",
              "/* Estimator label */\n",
              "\n",
              "#sk-container-id-1 div.sk-label label {\n",
              "  font-family: monospace;\n",
              "  font-weight: bold;\n",
              "  display: inline-block;\n",
              "  line-height: 1.2em;\n",
              "}\n",
              "\n",
              "#sk-container-id-1 div.sk-label-container {\n",
              "  text-align: center;\n",
              "}\n",
              "\n",
              "/* Estimator-specific */\n",
              "#sk-container-id-1 div.sk-estimator {\n",
              "  font-family: monospace;\n",
              "  border: 1px dotted var(--sklearn-color-border-box);\n",
              "  border-radius: 0.25em;\n",
              "  box-sizing: border-box;\n",
              "  margin-bottom: 0.5em;\n",
              "  /* unfitted */\n",
              "  background-color: var(--sklearn-color-unfitted-level-0);\n",
              "}\n",
              "\n",
              "#sk-container-id-1 div.sk-estimator.fitted {\n",
              "  /* fitted */\n",
              "  background-color: var(--sklearn-color-fitted-level-0);\n",
              "}\n",
              "\n",
              "/* on hover */\n",
              "#sk-container-id-1 div.sk-estimator:hover {\n",
              "  /* unfitted */\n",
              "  background-color: var(--sklearn-color-unfitted-level-2);\n",
              "}\n",
              "\n",
              "#sk-container-id-1 div.sk-estimator.fitted:hover {\n",
              "  /* fitted */\n",
              "  background-color: var(--sklearn-color-fitted-level-2);\n",
              "}\n",
              "\n",
              "/* Specification for estimator info (e.g. \"i\" and \"?\") */\n",
              "\n",
              "/* Common style for \"i\" and \"?\" */\n",
              "\n",
              ".sk-estimator-doc-link,\n",
              "a:link.sk-estimator-doc-link,\n",
              "a:visited.sk-estimator-doc-link {\n",
              "  float: right;\n",
              "  font-size: smaller;\n",
              "  line-height: 1em;\n",
              "  font-family: monospace;\n",
              "  background-color: var(--sklearn-color-background);\n",
              "  border-radius: 1em;\n",
              "  height: 1em;\n",
              "  width: 1em;\n",
              "  text-decoration: none !important;\n",
              "  margin-left: 0.5em;\n",
              "  text-align: center;\n",
              "  /* unfitted */\n",
              "  border: var(--sklearn-color-unfitted-level-1) 1pt solid;\n",
              "  color: var(--sklearn-color-unfitted-level-1);\n",
              "}\n",
              "\n",
              ".sk-estimator-doc-link.fitted,\n",
              "a:link.sk-estimator-doc-link.fitted,\n",
              "a:visited.sk-estimator-doc-link.fitted {\n",
              "  /* fitted */\n",
              "  border: var(--sklearn-color-fitted-level-1) 1pt solid;\n",
              "  color: var(--sklearn-color-fitted-level-1);\n",
              "}\n",
              "\n",
              "/* On hover */\n",
              "div.sk-estimator:hover .sk-estimator-doc-link:hover,\n",
              ".sk-estimator-doc-link:hover,\n",
              "div.sk-label-container:hover .sk-estimator-doc-link:hover,\n",
              ".sk-estimator-doc-link:hover {\n",
              "  /* unfitted */\n",
              "  background-color: var(--sklearn-color-unfitted-level-3);\n",
              "  color: var(--sklearn-color-background);\n",
              "  text-decoration: none;\n",
              "}\n",
              "\n",
              "div.sk-estimator.fitted:hover .sk-estimator-doc-link.fitted:hover,\n",
              ".sk-estimator-doc-link.fitted:hover,\n",
              "div.sk-label-container:hover .sk-estimator-doc-link.fitted:hover,\n",
              ".sk-estimator-doc-link.fitted:hover {\n",
              "  /* fitted */\n",
              "  background-color: var(--sklearn-color-fitted-level-3);\n",
              "  color: var(--sklearn-color-background);\n",
              "  text-decoration: none;\n",
              "}\n",
              "\n",
              "/* Span, style for the box shown on hovering the info icon */\n",
              ".sk-estimator-doc-link span {\n",
              "  display: none;\n",
              "  z-index: 9999;\n",
              "  position: relative;\n",
              "  font-weight: normal;\n",
              "  right: .2ex;\n",
              "  padding: .5ex;\n",
              "  margin: .5ex;\n",
              "  width: min-content;\n",
              "  min-width: 20ex;\n",
              "  max-width: 50ex;\n",
              "  color: var(--sklearn-color-text);\n",
              "  box-shadow: 2pt 2pt 4pt #999;\n",
              "  /* unfitted */\n",
              "  background: var(--sklearn-color-unfitted-level-0);\n",
              "  border: .5pt solid var(--sklearn-color-unfitted-level-3);\n",
              "}\n",
              "\n",
              ".sk-estimator-doc-link.fitted span {\n",
              "  /* fitted */\n",
              "  background: var(--sklearn-color-fitted-level-0);\n",
              "  border: var(--sklearn-color-fitted-level-3);\n",
              "}\n",
              "\n",
              ".sk-estimator-doc-link:hover span {\n",
              "  display: block;\n",
              "}\n",
              "\n",
              "/* \"?\"-specific style due to the `<a>` HTML tag */\n",
              "\n",
              "#sk-container-id-1 a.estimator_doc_link {\n",
              "  float: right;\n",
              "  font-size: 1rem;\n",
              "  line-height: 1em;\n",
              "  font-family: monospace;\n",
              "  background-color: var(--sklearn-color-background);\n",
              "  border-radius: 1rem;\n",
              "  height: 1rem;\n",
              "  width: 1rem;\n",
              "  text-decoration: none;\n",
              "  /* unfitted */\n",
              "  color: var(--sklearn-color-unfitted-level-1);\n",
              "  border: var(--sklearn-color-unfitted-level-1) 1pt solid;\n",
              "}\n",
              "\n",
              "#sk-container-id-1 a.estimator_doc_link.fitted {\n",
              "  /* fitted */\n",
              "  border: var(--sklearn-color-fitted-level-1) 1pt solid;\n",
              "  color: var(--sklearn-color-fitted-level-1);\n",
              "}\n",
              "\n",
              "/* On hover */\n",
              "#sk-container-id-1 a.estimator_doc_link:hover {\n",
              "  /* unfitted */\n",
              "  background-color: var(--sklearn-color-unfitted-level-3);\n",
              "  color: var(--sklearn-color-background);\n",
              "  text-decoration: none;\n",
              "}\n",
              "\n",
              "#sk-container-id-1 a.estimator_doc_link.fitted:hover {\n",
              "  /* fitted */\n",
              "  background-color: var(--sklearn-color-fitted-level-3);\n",
              "}\n",
              "</style><div id=\"sk-container-id-1\" class=\"sk-top-container\"><div class=\"sk-text-repr-fallback\"><pre>LogisticRegression()</pre><b>In a Jupyter environment, please rerun this cell to show the HTML representation or trust the notebook. <br />On GitHub, the HTML representation is unable to render, please try loading this page with nbviewer.org.</b></div><div class=\"sk-container\" hidden><div class=\"sk-item\"><div class=\"sk-estimator fitted sk-toggleable\"><input class=\"sk-toggleable__control sk-hidden--visually\" id=\"sk-estimator-id-1\" type=\"checkbox\" checked><label for=\"sk-estimator-id-1\" class=\"sk-toggleable__label fitted sk-toggleable__label-arrow\"><div><div>LogisticRegression</div></div><div><a class=\"sk-estimator-doc-link fitted\" rel=\"noreferrer\" target=\"_blank\" href=\"https://scikit-learn.org/1.6/modules/generated/sklearn.linear_model.LogisticRegression.html\">?<span>Documentation for LogisticRegression</span></a><span class=\"sk-estimator-doc-link fitted\">i<span>Fitted</span></span></div></label><div class=\"sk-toggleable__content fitted\"><pre>LogisticRegression()</pre></div> </div></div></div></div>"
            ]
          },
          "metadata": {},
          "execution_count": 28
        }
      ]
    },
    {
      "cell_type": "markdown",
      "source": [
        "**Additional Parameters in .fit()**\n",
        "\n",
        "Some models support extra arguments, such as:\n",
        "\n",
        "- sample_weight: Assigns different importance to data points.\n",
        "- epochs (for neural networks): Number of training iterations.\n",
        "- verbose=True: Displays training progress."
      ],
      "metadata": {
        "id": "ngsElYqgPEDe"
      }
    },
    {
      "cell_type": "markdown",
      "source": [
        "**Q19. What does model.predict() do? What arguments must be given?**"
      ],
      "metadata": {
        "id": "EMlzeTXnPLQ9"
      }
    },
    {
      "cell_type": "markdown",
      "source": [
        "The **.predict()** method in Scikit-Learn is used to make predictions on new data using a trained model. After calling .fit(), the model learns from the training data, and .predict() applies that knowledge to generate outputs for unseen inputs.\n",
        "\n",
        "# Arguments Required in .predict()\n",
        "1. X (Input Features)\n",
        "- A 2D array (or DataFrame) containing the new feature values for which predictions are required.\n",
        "- Shape: (n_samples, n_features), where:\n",
        " - n_samples = number of data points to predict.\n",
        " - n_features = number of input variables (same as during training)."
      ],
      "metadata": {
        "id": "zMVDGQKgPSnp"
      }
    },
    {
      "cell_type": "code",
      "source": [
        "#Linear Regression Example (Continuous Predictions)\n",
        "#example\n",
        "from sklearn.linear_model import LinearRegression\n",
        "import numpy as np\n",
        "\n",
        "# Training data\n",
        "X_train = np.array([[1], [2], [3], [4], [5]])\n",
        "y_train = np.array([2, 4, 5, 4, 5])\n",
        "\n",
        "# Train the model\n",
        "model = LinearRegression()\n",
        "model.fit(X_train, y_train)\n",
        "\n",
        "# New data to predict\n",
        "X_new = np.array([[6], [7], [8]])\n",
        "\n",
        "# Predict values\n",
        "predictions = model.predict(X_new)\n",
        "print(predictions)  # Outputs estimated y-values for X_new"
      ],
      "metadata": {
        "colab": {
          "base_uri": "https://localhost:8080/"
        },
        "id": "T_Lj1q4EOrGq",
        "outputId": "fc778d9a-fe97-467c-e145-09865dd82ca8"
      },
      "execution_count": 29,
      "outputs": [
        {
          "output_type": "stream",
          "name": "stdout",
          "text": [
            "[5.8 6.4 7. ]\n"
          ]
        }
      ]
    },
    {
      "cell_type": "code",
      "source": [
        "#Logistic Regression Example (Classification Predictions)\n",
        "#example\n",
        "from sklearn.linear_model import LogisticRegression\n",
        "\n",
        "X_train = [[1], [2], [3], [4], [5]]\n",
        "y_train = [0, 0, 1, 1, 1]  # Binary classification labels\n",
        "\n",
        "# Train the model\n",
        "model = LogisticRegression()\n",
        "model.fit(X_train, y_train)\n",
        "\n",
        "# New data to classify\n",
        "X_new = [[1.5], [3.5], [4.5]]\n",
        "\n",
        "# Predict class labels\n",
        "predictions = model.predict(X_new)\n",
        "print(predictions)  # Outputs 0 or 1 (predicted class)"
      ],
      "metadata": {
        "colab": {
          "base_uri": "https://localhost:8080/"
        },
        "id": "b7jHFWVcPt2s",
        "outputId": "ad5fc56b-d0ff-4786-dc11-5cb49dee718c"
      },
      "execution_count": 30,
      "outputs": [
        {
          "output_type": "stream",
          "name": "stdout",
          "text": [
            "[0 1 1]\n"
          ]
        }
      ]
    },
    {
      "cell_type": "markdown",
      "source": [
        "# Additional Considerations\n",
        "1. For Probabilities: If you need probability scores instead of class labels, use .predict_proba()."
      ],
      "metadata": {
        "id": "3sJMQ2VwP7Zd"
      }
    },
    {
      "cell_type": "code",
      "source": [
        "model.predict_proba(X_new)\n"
      ],
      "metadata": {
        "colab": {
          "base_uri": "https://localhost:8080/"
        },
        "id": "xVzN9MobP3OT",
        "outputId": "4b7d3486-ae4d-4d69-c621-b3da66205fb7"
      },
      "execution_count": 31,
      "outputs": [
        {
          "output_type": "execute_result",
          "data": {
            "text/plain": [
              "array([[0.72395746, 0.27604254],\n",
              "       [0.24403742, 0.75596258],\n",
              "       [0.10173495, 0.89826505]])"
            ]
          },
          "metadata": {},
          "execution_count": 31
        }
      ]
    },
    {
      "cell_type": "markdown",
      "source": [
        " - Returns probabilities for each class (e.g., [0.2, 0.8] for binary classification).\n",
        " 2. Feature Shape Must Match: The number of features in X_new must be the same as the model was trained on."
      ],
      "metadata": {
        "id": "nlo1MwnYQDPj"
      }
    },
    {
      "cell_type": "markdown",
      "source": [
        "**Q20. What are continuous and categorical variables?**"
      ],
      "metadata": {
        "id": "XDv4XP9wQKoW"
      }
    },
    {
      "cell_type": "markdown",
      "source": [
        "# **Continuous and Categorical Variables**\n",
        "In data analysis and machine learning, variables are classified into continuous and categorical based on the type of values they hold.\n",
        "\n",
        "1. **Continuous Variables**\n",
        "A continuous variable can take any numerical value within a given range. These values are typically measured and can have decimal points.\n",
        "\n",
        "**Key Characteristics:**\n",
        "\n",
        "- Can be measured (not counted).\n",
        "- Can have fractional or decimal values.\n",
        "- Can take an infinite number of possible values within a range.\n",
        "\n",
        "**Examples:**\n",
        "\n",
        "- Temperature (e.g., 23.5°C, 40.8°C)\n",
        "- Height (e.g., 5.6 feet, 167.3 cm)\n",
        "- Weight (e.g., 70.2 kg)\n",
        "- Time (e.g., 12.45 seconds)\n",
        "- Salary (e.g., ₹50,000.75 per month)\n",
        "\n"
      ],
      "metadata": {
        "id": "Ry6MNIQwQPGb"
      }
    },
    {
      "cell_type": "code",
      "source": [
        "#example in Python (Continuous Variable - Salary Distribution)\n",
        "import pandas as pd\n",
        "\n",
        "data = {'Employee': ['A', 'B', 'C'],\n",
        "        'Salary': [50000.5, 62000.75, 75000.25]}  # Continuous variable\n",
        "\n",
        "df = pd.DataFrame(data)\n",
        "print(df)"
      ],
      "metadata": {
        "colab": {
          "base_uri": "https://localhost:8080/"
        },
        "id": "ojlxWSKbQ4y6",
        "outputId": "6f3bbd33-6ddb-4f89-92aa-541fe9fa8b53"
      },
      "execution_count": 32,
      "outputs": [
        {
          "output_type": "stream",
          "name": "stdout",
          "text": [
            "  Employee    Salary\n",
            "0        A  50000.50\n",
            "1        B  62000.75\n",
            "2        C  75000.25\n"
          ]
        }
      ]
    },
    {
      "cell_type": "markdown",
      "source": [
        "2. **Categorical Variables**\n",
        "A categorical variable represents fixed groups or categories. These values are usually names or labels and cannot be measured numerically.\n",
        "\n",
        "**Key Characteristics:**\n",
        "- Represents groups, labels, or categories.\n",
        "- Can be counted but not measured.\n",
        "- Can be either nominal (unordered) or ordinal (ordered).\n",
        "\n",
        " **Types of Categorical Variables:**\n",
        "\n",
        "1. Nominal: No inherent order (e.g., colors, gender, country).\n",
        "- Examples: Blood type (A, B, AB, O), Eye color (Brown, Blue, Green)\n",
        "2. Ordinal: Categories have a meaningful order (e.g., education level, survey ratings).\n",
        "- Examples: Education level (High School < Bachelor’s < Master’s)\n",
        "\n",
        "**Examples:**\n",
        "\n",
        "- Gender (Male, Female, Other)\n",
        "- Marital Status (Single, Married, Divorced)\n",
        "- Product Category (Electronics, Clothing, Furniture)\n",
        "- Education Level (High School, Bachelor's, Master's)"
      ],
      "metadata": {
        "id": "8C7pRiFORES-"
      }
    },
    {
      "cell_type": "code",
      "source": [
        "#example in Python (Categorical Variable - Gender)\n",
        "import pandas as pd\n",
        "\n",
        "data = {'Employee': ['A', 'B', 'C'],\n",
        "        'Gender': ['Male', 'Female', 'Male']}  # Categorical variable\n",
        "\n",
        "df = pd.DataFrame(data)\n",
        "print(df)"
      ],
      "metadata": {
        "colab": {
          "base_uri": "https://localhost:8080/"
        },
        "id": "svPjHSTNRhBi",
        "outputId": "4165d57c-ebba-493a-9050-e6696045ffd9"
      },
      "execution_count": 33,
      "outputs": [
        {
          "output_type": "stream",
          "name": "stdout",
          "text": [
            "  Employee  Gender\n",
            "0        A    Male\n",
            "1        B  Female\n",
            "2        C    Male\n"
          ]
        }
      ]
    },
    {
      "cell_type": "markdown",
      "source": [
        "# Difference Between Continuous & Categorical Variables\n",
        "|Feature\t|Continuous Variable\t|Categorical Variable|\n",
        "|---------|---------------------|--------------------|\n",
        "Definition\t|Numeric values that can be measured\t|Fixed categories or labels\n",
        "Values\t|Can take an infinite number of values\t|Limited & predefined values\n",
        "Examples\t|Age, Salary, Weight\t|Gender, City, Blood Group\n",
        "Data Type\t|Integer, Float\t|String, Object\n",
        "Operations\t|Mean, Standard Deviation, Regression\t|Count, Frequency, One-Hot Encoding"
      ],
      "metadata": {
        "id": "djpp-_W7RnrH"
      }
    },
    {
      "cell_type": "code",
      "source": [
        "#3. Mixed Example (Both Continuous & Categorical Variables)\n",
        "import pandas as pd\n",
        "\n",
        "data = {\n",
        "    'Age': [25, 30, 35],        # Continuous\n",
        "    'Salary': [50000, 60000, 70000],  # Continuous\n",
        "    'Gender': ['Male', 'Female', 'Male'],  # Categorical\n",
        "    'Department': ['IT', 'HR', 'Finance']  # Categorical\n",
        "}\n",
        "\n",
        "df = pd.DataFrame(data)\n",
        "print(df)"
      ],
      "metadata": {
        "colab": {
          "base_uri": "https://localhost:8080/"
        },
        "id": "Q-KV7RmsSKFm",
        "outputId": "b8000b31-38b3-44e6-dc97-e5663685f736"
      },
      "execution_count": 34,
      "outputs": [
        {
          "output_type": "stream",
          "name": "stdout",
          "text": [
            "   Age  Salary  Gender Department\n",
            "0   25   50000    Male         IT\n",
            "1   30   60000  Female         HR\n",
            "2   35   70000    Male    Finance\n"
          ]
        }
      ]
    },
    {
      "cell_type": "markdown",
      "source": [],
      "metadata": {
        "id": "GrDHtB1ASFXo"
      }
    },
    {
      "cell_type": "markdown",
      "source": [
        "**Q21. What is feature scaling? How does it help in Machine Learning?**"
      ],
      "metadata": {
        "id": "pBC-JgxcQsb6"
      }
    },
    {
      "cell_type": "markdown",
      "source": [
        "**Feature scaling** is a technique used in machine learning to normalize or standardize the range of independent variables (features). It ensures that all features have the same scale, preventing any one feature from dominating others due to differences in magnitude.\n",
        "\n",
        " **Importance:**\n",
        "\n",
        "1. Prevents Dominance of Large-Scale Features\n",
        "- Features with larger values (e.g., salary in ₹50,000 vs. age in years) can dominate smaller ones, leading to biased results.\n",
        "\n",
        "2. Improves Convergence in Gradient Descent\n",
        "- Algorithms like Linear Regression, Logistic Regression, and Neural Networks use gradient descent, which converges faster when features are scaled.\n",
        "\n",
        "3. Enhances Model Performance\n",
        "- Helps models learn better patterns, improving accuracy and efficiency.\n",
        "\n",
        "4. Required for Distance-Based Models\n",
        "- Algorithms like KNN, K-Means, PCA, and SVM depend on distance calculations (Euclidean, Manhattan), which can be distorted if features are not scaled.\n",
        "\n",
        "\n",
        "**Common Feature Scaling Techniques**\n",
        "\n",
        "|Method\t|Formula\t         |When to Use?|\n",
        "|-------|------------------|------------|\n",
        "1. Min-Max Scaling (Normalization)| $X'=\\frac{X-X_{min}}{X_{max}-X_{min}}$  |  When data follows a uniform distribution (e.g., Deep Learning, KNN, K-Means)\n",
        "2. Standardization (Z-Score Scaling)|\t$X'=\\frac{X-μ}{σ}$ |  When data follows a Gaussian (normal) distribution (e.g., Logistic Regression, SVM, PCA)\n",
        "3. Robust Scaling\t|$X'= \\frac{X-median}{IQR}$ |When data contains outliers (e.g., Robust Regression)\n",
        "\n",
        "**Implementation in Python**\n",
        "\n",
        "1. Min-Max Scaling (Normalization)"
      ],
      "metadata": {
        "id": "2wxfki_2Ss9q"
      }
    },
    {
      "cell_type": "code",
      "source": [
        "from sklearn.preprocessing import MinMaxScaler\n",
        "import numpy as np\n",
        "\n",
        "data = np.array([[2000], [3000], [4000], [5000], [6000]])  # Example Salary Data\n",
        "scaler = MinMaxScaler()\n",
        "scaled_data = scaler.fit_transform(data)\n",
        "\n",
        "print(scaled_data)  # Values will be scaled between 0 and 1"
      ],
      "metadata": {
        "colab": {
          "base_uri": "https://localhost:8080/"
        },
        "id": "uy7n9zuVQBLs",
        "outputId": "e0333a33-3aae-406f-f0ea-9accbdd07d9f"
      },
      "execution_count": 35,
      "outputs": [
        {
          "output_type": "stream",
          "name": "stdout",
          "text": [
            "[[0.  ]\n",
            " [0.25]\n",
            " [0.5 ]\n",
            " [0.75]\n",
            " [1.  ]]\n"
          ]
        }
      ]
    },
    {
      "cell_type": "markdown",
      "source": [
        "2. Standardization (Z-Score Scaling)"
      ],
      "metadata": {
        "id": "ttYgaad_WFkL"
      }
    },
    {
      "cell_type": "code",
      "source": [
        "from sklearn.preprocessing import StandardScaler\n",
        "\n",
        "scaler = StandardScaler()\n",
        "scaled_data = scaler.fit_transform(data)\n",
        "\n",
        "print(scaled_data)  # Mean = 0, Std Dev = 1"
      ],
      "metadata": {
        "colab": {
          "base_uri": "https://localhost:8080/"
        },
        "id": "tNiRfZjQWD0Z",
        "outputId": "005e5c3e-611d-4f5a-83e3-fe1836d5b6e4"
      },
      "execution_count": 36,
      "outputs": [
        {
          "output_type": "stream",
          "name": "stdout",
          "text": [
            "[[-1.41421356]\n",
            " [-0.70710678]\n",
            " [ 0.        ]\n",
            " [ 0.70710678]\n",
            " [ 1.41421356]]\n"
          ]
        }
      ]
    },
    {
      "cell_type": "markdown",
      "source": [
        "3. Robust Scaling (For Handling Outliers)"
      ],
      "metadata": {
        "id": "HC7IGyTnWLHL"
      }
    },
    {
      "cell_type": "code",
      "source": [
        "from sklearn.preprocessing import RobustScaler\n",
        "\n",
        "scaler = RobustScaler()\n",
        "scaled_data = scaler.fit_transform(data)\n",
        "\n",
        "print(scaled_data)  # Robust against outliers"
      ],
      "metadata": {
        "colab": {
          "base_uri": "https://localhost:8080/"
        },
        "id": "q7ZKvgnoWJAN",
        "outputId": "f1e49488-2c26-4e67-dea9-26e679f421d9"
      },
      "execution_count": 37,
      "outputs": [
        {
          "output_type": "stream",
          "name": "stdout",
          "text": [
            "[[-1. ]\n",
            " [-0.5]\n",
            " [ 0. ]\n",
            " [ 0.5]\n",
            " [ 1. ]]\n"
          ]
        }
      ]
    },
    {
      "cell_type": "markdown",
      "source": [
        "**Q22. How do we perform scaling in Python?**"
      ],
      "metadata": {
        "id": "EcwOLrFdWTMK"
      }
    },
    {
      "cell_type": "markdown",
      "source": [
        "In Python, feature scaling can be performed using scikit-learn’s preprocessing module. The two most common techniques are Standardization (Z-score normalization) and Min-Max Scaling.\n",
        "\n",
        "**1. Standardization (Z-score normalization)**\n",
        "- Centers data around mean = 0 and standard deviation = 1.\n",
        "- Formula: $X'=\\frac{X-μ}{σ}$\n",
        "- Useful when data follows a normal distribution.\n",
        "\n",
        "**Implementation in Python (Using StandardScaler)**"
      ],
      "metadata": {
        "id": "2-PcBYTVWXMy"
      }
    },
    {
      "cell_type": "code",
      "source": [
        "from sklearn.preprocessing import StandardScaler\n",
        "import numpy as np\n",
        "\n",
        "# Sample data\n",
        "X = np.array([[100], [200], [300], [400], [500]])\n",
        "\n",
        "# Apply StandardScaler\n",
        "scaler = StandardScaler()\n",
        "X_scaled = scaler.fit_transform(X)\n",
        "\n",
        "print(X_scaled)"
      ],
      "metadata": {
        "colab": {
          "base_uri": "https://localhost:8080/"
        },
        "id": "dK0RE70jWOkd",
        "outputId": "3ae34f1f-1cfa-47fc-e180-8badc10ba4f5"
      },
      "execution_count": 38,
      "outputs": [
        {
          "output_type": "stream",
          "name": "stdout",
          "text": [
            "[[-1.41421356]\n",
            " [-0.70710678]\n",
            " [ 0.        ]\n",
            " [ 0.70710678]\n",
            " [ 1.41421356]]\n"
          ]
        }
      ]
    },
    {
      "cell_type": "markdown",
      "source": [
        "**2. Min-Max Scaling (Normalization)**\n",
        "- Scales data between a fixed range, typically [0,1].\n",
        "- Formula: $X'=\\frac{X-X_{min}}{X_{max}-X_{min}}$\n",
        "- Useful when features have different ranges.\n",
        "\n",
        "**Implementation in Python (Using MinMaxScaler)**"
      ],
      "metadata": {
        "id": "z1v5GO5MW4S_"
      }
    },
    {
      "cell_type": "code",
      "source": [
        "from sklearn.preprocessing import MinMaxScaler\n",
        "\n",
        "# Apply MinMaxScaler\n",
        "scaler = MinMaxScaler()\n",
        "X_minmax = scaler.fit_transform(X)\n",
        "\n",
        "print(X_minmax)"
      ],
      "metadata": {
        "colab": {
          "base_uri": "https://localhost:8080/"
        },
        "id": "E2XfpKPqW1LI",
        "outputId": "fb82f96e-b00d-49ae-c7c5-c117872951c4"
      },
      "execution_count": 39,
      "outputs": [
        {
          "output_type": "stream",
          "name": "stdout",
          "text": [
            "[[0.  ]\n",
            " [0.25]\n",
            " [0.5 ]\n",
            " [0.75]\n",
            " [1.  ]]\n"
          ]
        }
      ]
    },
    {
      "cell_type": "markdown",
      "source": [
        "**3. Robust Scaling (for Handling Outliers)**\n",
        "- Uses median and interquartile range (IQR) instead of mean and standard deviation.\n",
        "- Formula: $X'= \\frac{X-median}{IQR}$\n",
        "- Suitable for datasets with outliers.\n",
        "\n",
        "**Implementation in Python (Using RobustScaler)**"
      ],
      "metadata": {
        "id": "aWB51WYHXK_S"
      }
    },
    {
      "cell_type": "code",
      "source": [
        "from sklearn.preprocessing import RobustScaler\n",
        "\n",
        "# Apply RobustScaler\n",
        "scaler = RobustScaler()\n",
        "X_robust = scaler.fit_transform(X)\n",
        "\n",
        "print(X_robust)"
      ],
      "metadata": {
        "colab": {
          "base_uri": "https://localhost:8080/"
        },
        "id": "wPquttJ8XIG3",
        "outputId": "6336b963-26d3-41fa-d865-10f6401d1eff"
      },
      "execution_count": 40,
      "outputs": [
        {
          "output_type": "stream",
          "name": "stdout",
          "text": [
            "[[-1. ]\n",
            " [-0.5]\n",
            " [ 0. ]\n",
            " [ 0.5]\n",
            " [ 1. ]]\n"
          ]
        }
      ]
    },
    {
      "cell_type": "markdown",
      "source": [
        "# When to Use Which Scaling Method?\n",
        "|Scaling Method\t|Best When?|\n",
        "|---------------|----------|\n",
        "Standardization (Z-score)|\tWhen data follows normal distribution\n",
        "Min-Max Scaling\t|When data has different scales but no outliers\n",
        "Robust Scaling\t|When data has outliers"
      ],
      "metadata": {
        "id": "n0U2WeAAXd2u"
      }
    },
    {
      "cell_type": "markdown",
      "source": [
        "**Q23. What is sklearn.preprocessing?**\n",
        "\n",
        "**sklearn.preprocessing** is a module in Scikit-learn that provides various methods for data preprocessing and feature scaling. It includes functions for scaling, normalizing, encoding categorical variables, and handling missing values.\n",
        "\n",
        "**Commonly Used Functions in sklearn.preprocessing**\n",
        "1. **Feature Scaling**\n",
        "\n",
        "Scaling helps normalize data and improves model performance.\n",
        "\n",
        "**Standardization (Z-score normalization)**\n",
        "- Centers data around mean = 0 and standard deviation = 1."
      ],
      "metadata": {
        "id": "2T8SnHXbXugy"
      }
    },
    {
      "cell_type": "code",
      "source": [
        "from sklearn.preprocessing import StandardScaler\n",
        "import numpy as np\n",
        "\n",
        "X = np.array([[100], [200], [300], [400], [500]])\n",
        "\n",
        "scaler = StandardScaler()\n",
        "X_scaled = scaler.fit_transform(X)\n",
        "\n",
        "print(X_scaled)"
      ],
      "metadata": {
        "colab": {
          "base_uri": "https://localhost:8080/"
        },
        "id": "N1vKeRc6Xaun",
        "outputId": "1df3637b-bdac-4c93-e16a-0fe5787b7481"
      },
      "execution_count": 41,
      "outputs": [
        {
          "output_type": "stream",
          "name": "stdout",
          "text": [
            "[[-1.41421356]\n",
            " [-0.70710678]\n",
            " [ 0.        ]\n",
            " [ 0.70710678]\n",
            " [ 1.41421356]]\n"
          ]
        }
      ]
    },
    {
      "cell_type": "markdown",
      "source": [
        "**Min-Max Scaling (Normalization)**\n",
        "- Scales data between a fixed range (e.g., [0,1]).\n"
      ],
      "metadata": {
        "id": "9-FC2DsdYKFp"
      }
    },
    {
      "cell_type": "code",
      "source": [
        "from sklearn.preprocessing import MinMaxScaler\n",
        "\n",
        "scaler = MinMaxScaler()\n",
        "X_minmax = scaler.fit_transform(X)\n",
        "\n",
        "print(X_minmax)"
      ],
      "metadata": {
        "colab": {
          "base_uri": "https://localhost:8080/"
        },
        "id": "z4d89h2FYIPn",
        "outputId": "08e1a49d-05b0-47d8-8d9c-77be8532a182"
      },
      "execution_count": 42,
      "outputs": [
        {
          "output_type": "stream",
          "name": "stdout",
          "text": [
            "[[0.  ]\n",
            " [0.25]\n",
            " [0.5 ]\n",
            " [0.75]\n",
            " [1.  ]]\n"
          ]
        }
      ]
    },
    {
      "cell_type": "markdown",
      "source": [
        "**Robust Scaling (Handles Outliers)**\n",
        "- Uses median and IQR instead of mean and standard deviation.\n",
        "\n"
      ],
      "metadata": {
        "id": "rD3fq2qaYRK3"
      }
    },
    {
      "cell_type": "code",
      "source": [
        "from sklearn.preprocessing import RobustScaler\n",
        "\n",
        "scaler = RobustScaler()\n",
        "X_robust = scaler.fit_transform(X)\n",
        "\n",
        "print(X_robust)"
      ],
      "metadata": {
        "colab": {
          "base_uri": "https://localhost:8080/"
        },
        "id": "NZykJ-qVYPUS",
        "outputId": "d90d362d-b7de-4c56-ad1f-5a7a8feedb5d"
      },
      "execution_count": 43,
      "outputs": [
        {
          "output_type": "stream",
          "name": "stdout",
          "text": [
            "[[-1. ]\n",
            " [-0.5]\n",
            " [ 0. ]\n",
            " [ 0.5]\n",
            " [ 1. ]]\n"
          ]
        }
      ]
    },
    {
      "cell_type": "markdown",
      "source": [
        "**2. Encoding Categorical Data**\n",
        "\n",
        "Categorical variables need to be converted into numerical format for ML models.\n",
        "\n",
        "**Label Encoding (Converts categories into integers)**"
      ],
      "metadata": {
        "id": "icfg1le5YYal"
      }
    },
    {
      "cell_type": "code",
      "source": [
        "from sklearn.preprocessing import LabelEncoder\n",
        "\n",
        "labels = [\"red\", \"blue\", \"green\", \"blue\", \"red\"]\n",
        "encoder = LabelEncoder()\n",
        "encoded_labels = encoder.fit_transform(labels)\n",
        "\n",
        "print(encoded_labels)  # Output: [2 0 1 0 2]"
      ],
      "metadata": {
        "colab": {
          "base_uri": "https://localhost:8080/"
        },
        "id": "_BpFGZAvYUvF",
        "outputId": "cf2668f0-cf47-4f8d-ce02-c5a8bcca8bae"
      },
      "execution_count": 44,
      "outputs": [
        {
          "output_type": "stream",
          "name": "stdout",
          "text": [
            "[2 0 1 0 2]\n"
          ]
        }
      ]
    },
    {
      "cell_type": "markdown",
      "source": [
        "**One-Hot Encoding (Creates binary columns for each category)**"
      ],
      "metadata": {
        "id": "e4VFQxbZYiVp"
      }
    },
    {
      "cell_type": "code",
      "source": [
        "from sklearn.preprocessing import OneHotEncoder\n",
        "import numpy as np\n",
        "\n",
        "categories = np.array([[\"red\"], [\"blue\"], [\"green\"], [\"blue\"], [\"red\"]])\n",
        "\n",
        "encoder = OneHotEncoder()\n",
        "encoded_categories = encoder.fit_transform(categories).toarray()\n",
        "\n",
        "print(encoded_categories)"
      ],
      "metadata": {
        "colab": {
          "base_uri": "https://localhost:8080/"
        },
        "id": "DqtkKUvDYgmb",
        "outputId": "0b7e1bdd-f5e2-4109-9b68-ab171d4390d0"
      },
      "execution_count": 45,
      "outputs": [
        {
          "output_type": "stream",
          "name": "stdout",
          "text": [
            "[[0. 0. 1.]\n",
            " [1. 0. 0.]\n",
            " [0. 1. 0.]\n",
            " [1. 0. 0.]\n",
            " [0. 0. 1.]]\n"
          ]
        }
      ]
    },
    {
      "cell_type": "markdown",
      "source": [
        "**3. Binarization (Convert numerical data into binary format)**"
      ],
      "metadata": {
        "id": "hcYn-fFrYmyb"
      }
    },
    {
      "cell_type": "code",
      "source": [
        "from sklearn.preprocessing import Binarizer\n",
        "\n",
        "X = np.array([[0.2], [0.8], [0.5], [0.1]])\n",
        "binarizer = Binarizer(threshold=0.5)\n",
        "X_binarized = binarizer.fit_transform(X)\n",
        "\n",
        "print(X_binarized)  # 1 if value > 0.5 else 0"
      ],
      "metadata": {
        "colab": {
          "base_uri": "https://localhost:8080/"
        },
        "id": "lYLsX4XGYkoe",
        "outputId": "d632fc1f-72c2-4bd5-ed34-ffae3e7059da"
      },
      "execution_count": 46,
      "outputs": [
        {
          "output_type": "stream",
          "name": "stdout",
          "text": [
            "[[0.]\n",
            " [1.]\n",
            " [0.]\n",
            " [0.]]\n"
          ]
        }
      ]
    },
    {
      "cell_type": "markdown",
      "source": [
        "**4.. Handling Missing Values**\n",
        "\n",
        "**Replacing Missing Values with Mean**"
      ],
      "metadata": {
        "id": "ZpXghMl8YrQh"
      }
    },
    {
      "cell_type": "code",
      "source": [
        "from sklearn.impute import SimpleImputer\n",
        "\n",
        "X = np.array([[1, 2], [np.nan, 3], [7, 6]])\n",
        "imputer = SimpleImputer(strategy=\"mean\")\n",
        "X_imputed = imputer.fit_transform(X)\n",
        "\n",
        "print(X_imputed)\n"
      ],
      "metadata": {
        "colab": {
          "base_uri": "https://localhost:8080/"
        },
        "id": "Puen6aTxYpGd",
        "outputId": "4a63117e-7003-4b1f-a626-d70a30cdee14"
      },
      "execution_count": 47,
      "outputs": [
        {
          "output_type": "stream",
          "name": "stdout",
          "text": [
            "[[1. 2.]\n",
            " [4. 3.]\n",
            " [7. 6.]]\n"
          ]
        }
      ]
    },
    {
      "cell_type": "markdown",
      "source": [
        "**Q24. How do we split data for model fitting (training and testing) in Python?**\n",
        "\n",
        "In machine learning, we split the dataset into training and testing sets to evaluate model performance.\n",
        "\n",
        "**Using** train_test_split() **from** sklearn.model_selection\n",
        "\n",
        "Scikit-learn provides the train_test_split() function to split data into training and testing sets.\n"
      ],
      "metadata": {
        "id": "P32iHTZdYzjB"
      }
    },
    {
      "cell_type": "code",
      "source": [
        "#Syntax:\n",
        "from sklearn.model_selection import train_test_split\n",
        "X_train, X_test, y_train, y_test = train_test_split(X, y, test_size=0.2, random_state=42)"
      ],
      "metadata": {
        "id": "leVbyVB4ZUYF"
      },
      "execution_count": 4,
      "outputs": []
    },
    {
      "cell_type": "code",
      "source": [
        "#Example: Splitting a Dataset\n",
        "\n",
        "import pandas as pd\n",
        "from sklearn.model_selection import train_test_split\n",
        "\n",
        "# Sample dataset\n",
        "data = {\n",
        "    'Feature1': [10, 20, 30, 40, 50, 60, 70, 80, 90, 100],\n",
        "    'Feature2': [5, 15, 25, 35, 45, 55, 65, 75, 85, 95],\n",
        "    'Target': [1, 0, 1, 0, 1, 0, 1, 0, 1, 0]\n",
        "}\n",
        "\n",
        "df = pd.DataFrame(data)\n",
        "\n",
        "# Features (X) and Target (y)\n",
        "X = df[['Feature1', 'Feature2']]  # Independent variables\n",
        "y = df['Target']  # Dependent variable\n",
        "\n",
        "# Split data into training and testing (80% training, 20% testing)\n",
        "X_train, X_test, y_train, y_test = train_test_split(X, y, test_size=0.2, random_state=42)\n",
        "\n",
        "# Print shapes of training and testing sets\n",
        "print(\"Training Set:\", X_train.shape, y_train.shape)\n",
        "print(\"Testing Set:\", X_test.shape, y_test.shape)"
      ],
      "metadata": {
        "colab": {
          "base_uri": "https://localhost:8080/"
        },
        "id": "vuSNk7kGwwxG",
        "outputId": "465fd28d-47b1-428f-ed41-a94825d1cbee"
      },
      "execution_count": 4,
      "outputs": [
        {
          "output_type": "stream",
          "name": "stdout",
          "text": [
            "Training Set: (8, 2) (8,)\n",
            "Testing Set: (2, 2) (2,)\n"
          ]
        }
      ]
    },
    {
      "cell_type": "markdown",
      "source": [
        "**Explanation of Parameters**\n",
        "\n",
        "- test_size=0.2 → 20% of the data is used for testing, and 80% is used for training.\n",
        "- random_state=42 → Ensures reproducibility (same split every time).\n",
        "- X_train, X_test → Features for training and testing.\n",
        "- y_train, y_test → Labels for training and testing.\n",
        "\n",
        "Other Splitting Strategies\n",
        "1. 70-30 Split (Common in real-world scenarios)\n",
        "\n",
        "X_train, X_test, y_train, y_test = train_test_split(X, y, test_size=0.3, random_state=42)\n",
        "\n",
        "\n",
        "2. Stratified Split (For Imbalanced Data)\n",
        "\n",
        "If the dataset has imbalanced classes, use stratify=y to maintain the class ratio.\n",
        "\n",
        "X_train, X_test, y_train, y_test = train_test_split(X, y, test_size=0.2, stratify=y, random_state=42)\n",
        "\n",
        "3. 90-10 Split (For large datasets)\n",
        "\n",
        "X_train, X_test, y_train, y_test = train_test_split(X, y, test_size=0.1, random_state=42)\n",
        "  "
      ],
      "metadata": {
        "id": "BQMXBwjJZHto"
      }
    },
    {
      "cell_type": "markdown",
      "source": [
        "**Q25. Explain data encoding?**\n",
        "\n",
        "# Data Encoding in Machine Learning\n",
        "Data encoding is the process of converting categorical data into numerical format so that machine learning models can process and analyze it. Since most ML algorithms work with numerical data, categorical variables need to be transformed into a numerical representation.\n",
        "\n",
        "Types of Data Encoding\n",
        "1. **Label Encoding**\n",
        "\n",
        "Converts categories into numeric labels (0, 1, 2, …).\n",
        "Suitable for ordinal categorical variables (where order matters).\n",
        "- Example:\n",
        "\n",
        "|Color\t|Encoded|\n",
        "|-------|-------|\n",
        "|Red|\t0|\n",
        "|Green|\t1|\n",
        "|Blue|\t2|"
      ],
      "metadata": {
        "id": "_LbiMsBwzfjr"
      }
    },
    {
      "cell_type": "code",
      "source": [
        "df =  pd.DataFrame({'Color': ['Red', 'Green', 'Blue'],'Encoded': [0,1,2]})"
      ],
      "metadata": {
        "id": "RxIkxISk06_d"
      },
      "execution_count": 14,
      "outputs": []
    },
    {
      "cell_type": "code",
      "source": [
        "from sklearn.preprocessing import LabelEncoder\n",
        "\n",
        "encoder = LabelEncoder()\n",
        "df['Color_encoded'] = encoder.fit_transform(df['Color'])\n",
        "df"
      ],
      "metadata": {
        "colab": {
          "base_uri": "https://localhost:8080/",
          "height": 143
        },
        "id": "uD48MPOxYwUY",
        "outputId": "9ee5e54e-9cb2-46d9-db16-b2edeb7b13df"
      },
      "execution_count": 17,
      "outputs": [
        {
          "output_type": "execute_result",
          "data": {
            "text/plain": [
              "   Color  Encoded  Color_encoded\n",
              "0    Red        0              2\n",
              "1  Green        1              1\n",
              "2   Blue        2              0"
            ],
            "text/html": [
              "\n",
              "  <div id=\"df-ec624c8c-04cd-4cc1-9541-8be77674b2b8\" class=\"colab-df-container\">\n",
              "    <div>\n",
              "<style scoped>\n",
              "    .dataframe tbody tr th:only-of-type {\n",
              "        vertical-align: middle;\n",
              "    }\n",
              "\n",
              "    .dataframe tbody tr th {\n",
              "        vertical-align: top;\n",
              "    }\n",
              "\n",
              "    .dataframe thead th {\n",
              "        text-align: right;\n",
              "    }\n",
              "</style>\n",
              "<table border=\"1\" class=\"dataframe\">\n",
              "  <thead>\n",
              "    <tr style=\"text-align: right;\">\n",
              "      <th></th>\n",
              "      <th>Color</th>\n",
              "      <th>Encoded</th>\n",
              "      <th>Color_encoded</th>\n",
              "    </tr>\n",
              "  </thead>\n",
              "  <tbody>\n",
              "    <tr>\n",
              "      <th>0</th>\n",
              "      <td>Red</td>\n",
              "      <td>0</td>\n",
              "      <td>2</td>\n",
              "    </tr>\n",
              "    <tr>\n",
              "      <th>1</th>\n",
              "      <td>Green</td>\n",
              "      <td>1</td>\n",
              "      <td>1</td>\n",
              "    </tr>\n",
              "    <tr>\n",
              "      <th>2</th>\n",
              "      <td>Blue</td>\n",
              "      <td>2</td>\n",
              "      <td>0</td>\n",
              "    </tr>\n",
              "  </tbody>\n",
              "</table>\n",
              "</div>\n",
              "    <div class=\"colab-df-buttons\">\n",
              "\n",
              "  <div class=\"colab-df-container\">\n",
              "    <button class=\"colab-df-convert\" onclick=\"convertToInteractive('df-ec624c8c-04cd-4cc1-9541-8be77674b2b8')\"\n",
              "            title=\"Convert this dataframe to an interactive table.\"\n",
              "            style=\"display:none;\">\n",
              "\n",
              "  <svg xmlns=\"http://www.w3.org/2000/svg\" height=\"24px\" viewBox=\"0 -960 960 960\">\n",
              "    <path d=\"M120-120v-720h720v720H120Zm60-500h600v-160H180v160Zm220 220h160v-160H400v160Zm0 220h160v-160H400v160ZM180-400h160v-160H180v160Zm440 0h160v-160H620v160ZM180-180h160v-160H180v160Zm440 0h160v-160H620v160Z\"/>\n",
              "  </svg>\n",
              "    </button>\n",
              "\n",
              "  <style>\n",
              "    .colab-df-container {\n",
              "      display:flex;\n",
              "      gap: 12px;\n",
              "    }\n",
              "\n",
              "    .colab-df-convert {\n",
              "      background-color: #E8F0FE;\n",
              "      border: none;\n",
              "      border-radius: 50%;\n",
              "      cursor: pointer;\n",
              "      display: none;\n",
              "      fill: #1967D2;\n",
              "      height: 32px;\n",
              "      padding: 0 0 0 0;\n",
              "      width: 32px;\n",
              "    }\n",
              "\n",
              "    .colab-df-convert:hover {\n",
              "      background-color: #E2EBFA;\n",
              "      box-shadow: 0px 1px 2px rgba(60, 64, 67, 0.3), 0px 1px 3px 1px rgba(60, 64, 67, 0.15);\n",
              "      fill: #174EA6;\n",
              "    }\n",
              "\n",
              "    .colab-df-buttons div {\n",
              "      margin-bottom: 4px;\n",
              "    }\n",
              "\n",
              "    [theme=dark] .colab-df-convert {\n",
              "      background-color: #3B4455;\n",
              "      fill: #D2E3FC;\n",
              "    }\n",
              "\n",
              "    [theme=dark] .colab-df-convert:hover {\n",
              "      background-color: #434B5C;\n",
              "      box-shadow: 0px 1px 3px 1px rgba(0, 0, 0, 0.15);\n",
              "      filter: drop-shadow(0px 1px 2px rgba(0, 0, 0, 0.3));\n",
              "      fill: #FFFFFF;\n",
              "    }\n",
              "  </style>\n",
              "\n",
              "    <script>\n",
              "      const buttonEl =\n",
              "        document.querySelector('#df-ec624c8c-04cd-4cc1-9541-8be77674b2b8 button.colab-df-convert');\n",
              "      buttonEl.style.display =\n",
              "        google.colab.kernel.accessAllowed ? 'block' : 'none';\n",
              "\n",
              "      async function convertToInteractive(key) {\n",
              "        const element = document.querySelector('#df-ec624c8c-04cd-4cc1-9541-8be77674b2b8');\n",
              "        const dataTable =\n",
              "          await google.colab.kernel.invokeFunction('convertToInteractive',\n",
              "                                                    [key], {});\n",
              "        if (!dataTable) return;\n",
              "\n",
              "        const docLinkHtml = 'Like what you see? Visit the ' +\n",
              "          '<a target=\"_blank\" href=https://colab.research.google.com/notebooks/data_table.ipynb>data table notebook</a>'\n",
              "          + ' to learn more about interactive tables.';\n",
              "        element.innerHTML = '';\n",
              "        dataTable['output_type'] = 'display_data';\n",
              "        await google.colab.output.renderOutput(dataTable, element);\n",
              "        const docLink = document.createElement('div');\n",
              "        docLink.innerHTML = docLinkHtml;\n",
              "        element.appendChild(docLink);\n",
              "      }\n",
              "    </script>\n",
              "  </div>\n",
              "\n",
              "\n",
              "<div id=\"df-ff6ad895-a8cf-473f-a714-0db133ba2276\">\n",
              "  <button class=\"colab-df-quickchart\" onclick=\"quickchart('df-ff6ad895-a8cf-473f-a714-0db133ba2276')\"\n",
              "            title=\"Suggest charts\"\n",
              "            style=\"display:none;\">\n",
              "\n",
              "<svg xmlns=\"http://www.w3.org/2000/svg\" height=\"24px\"viewBox=\"0 0 24 24\"\n",
              "     width=\"24px\">\n",
              "    <g>\n",
              "        <path d=\"M19 3H5c-1.1 0-2 .9-2 2v14c0 1.1.9 2 2 2h14c1.1 0 2-.9 2-2V5c0-1.1-.9-2-2-2zM9 17H7v-7h2v7zm4 0h-2V7h2v10zm4 0h-2v-4h2v4z\"/>\n",
              "    </g>\n",
              "</svg>\n",
              "  </button>\n",
              "\n",
              "<style>\n",
              "  .colab-df-quickchart {\n",
              "      --bg-color: #E8F0FE;\n",
              "      --fill-color: #1967D2;\n",
              "      --hover-bg-color: #E2EBFA;\n",
              "      --hover-fill-color: #174EA6;\n",
              "      --disabled-fill-color: #AAA;\n",
              "      --disabled-bg-color: #DDD;\n",
              "  }\n",
              "\n",
              "  [theme=dark] .colab-df-quickchart {\n",
              "      --bg-color: #3B4455;\n",
              "      --fill-color: #D2E3FC;\n",
              "      --hover-bg-color: #434B5C;\n",
              "      --hover-fill-color: #FFFFFF;\n",
              "      --disabled-bg-color: #3B4455;\n",
              "      --disabled-fill-color: #666;\n",
              "  }\n",
              "\n",
              "  .colab-df-quickchart {\n",
              "    background-color: var(--bg-color);\n",
              "    border: none;\n",
              "    border-radius: 50%;\n",
              "    cursor: pointer;\n",
              "    display: none;\n",
              "    fill: var(--fill-color);\n",
              "    height: 32px;\n",
              "    padding: 0;\n",
              "    width: 32px;\n",
              "  }\n",
              "\n",
              "  .colab-df-quickchart:hover {\n",
              "    background-color: var(--hover-bg-color);\n",
              "    box-shadow: 0 1px 2px rgba(60, 64, 67, 0.3), 0 1px 3px 1px rgba(60, 64, 67, 0.15);\n",
              "    fill: var(--button-hover-fill-color);\n",
              "  }\n",
              "\n",
              "  .colab-df-quickchart-complete:disabled,\n",
              "  .colab-df-quickchart-complete:disabled:hover {\n",
              "    background-color: var(--disabled-bg-color);\n",
              "    fill: var(--disabled-fill-color);\n",
              "    box-shadow: none;\n",
              "  }\n",
              "\n",
              "  .colab-df-spinner {\n",
              "    border: 2px solid var(--fill-color);\n",
              "    border-color: transparent;\n",
              "    border-bottom-color: var(--fill-color);\n",
              "    animation:\n",
              "      spin 1s steps(1) infinite;\n",
              "  }\n",
              "\n",
              "  @keyframes spin {\n",
              "    0% {\n",
              "      border-color: transparent;\n",
              "      border-bottom-color: var(--fill-color);\n",
              "      border-left-color: var(--fill-color);\n",
              "    }\n",
              "    20% {\n",
              "      border-color: transparent;\n",
              "      border-left-color: var(--fill-color);\n",
              "      border-top-color: var(--fill-color);\n",
              "    }\n",
              "    30% {\n",
              "      border-color: transparent;\n",
              "      border-left-color: var(--fill-color);\n",
              "      border-top-color: var(--fill-color);\n",
              "      border-right-color: var(--fill-color);\n",
              "    }\n",
              "    40% {\n",
              "      border-color: transparent;\n",
              "      border-right-color: var(--fill-color);\n",
              "      border-top-color: var(--fill-color);\n",
              "    }\n",
              "    60% {\n",
              "      border-color: transparent;\n",
              "      border-right-color: var(--fill-color);\n",
              "    }\n",
              "    80% {\n",
              "      border-color: transparent;\n",
              "      border-right-color: var(--fill-color);\n",
              "      border-bottom-color: var(--fill-color);\n",
              "    }\n",
              "    90% {\n",
              "      border-color: transparent;\n",
              "      border-bottom-color: var(--fill-color);\n",
              "    }\n",
              "  }\n",
              "</style>\n",
              "\n",
              "  <script>\n",
              "    async function quickchart(key) {\n",
              "      const quickchartButtonEl =\n",
              "        document.querySelector('#' + key + ' button');\n",
              "      quickchartButtonEl.disabled = true;  // To prevent multiple clicks.\n",
              "      quickchartButtonEl.classList.add('colab-df-spinner');\n",
              "      try {\n",
              "        const charts = await google.colab.kernel.invokeFunction(\n",
              "            'suggestCharts', [key], {});\n",
              "      } catch (error) {\n",
              "        console.error('Error during call to suggestCharts:', error);\n",
              "      }\n",
              "      quickchartButtonEl.classList.remove('colab-df-spinner');\n",
              "      quickchartButtonEl.classList.add('colab-df-quickchart-complete');\n",
              "    }\n",
              "    (() => {\n",
              "      let quickchartButtonEl =\n",
              "        document.querySelector('#df-ff6ad895-a8cf-473f-a714-0db133ba2276 button');\n",
              "      quickchartButtonEl.style.display =\n",
              "        google.colab.kernel.accessAllowed ? 'block' : 'none';\n",
              "    })();\n",
              "  </script>\n",
              "</div>\n",
              "\n",
              "  <div id=\"id_04930a30-6220-4a55-a8dc-5d7102d2b6a7\">\n",
              "    <style>\n",
              "      .colab-df-generate {\n",
              "        background-color: #E8F0FE;\n",
              "        border: none;\n",
              "        border-radius: 50%;\n",
              "        cursor: pointer;\n",
              "        display: none;\n",
              "        fill: #1967D2;\n",
              "        height: 32px;\n",
              "        padding: 0 0 0 0;\n",
              "        width: 32px;\n",
              "      }\n",
              "\n",
              "      .colab-df-generate:hover {\n",
              "        background-color: #E2EBFA;\n",
              "        box-shadow: 0px 1px 2px rgba(60, 64, 67, 0.3), 0px 1px 3px 1px rgba(60, 64, 67, 0.15);\n",
              "        fill: #174EA6;\n",
              "      }\n",
              "\n",
              "      [theme=dark] .colab-df-generate {\n",
              "        background-color: #3B4455;\n",
              "        fill: #D2E3FC;\n",
              "      }\n",
              "\n",
              "      [theme=dark] .colab-df-generate:hover {\n",
              "        background-color: #434B5C;\n",
              "        box-shadow: 0px 1px 3px 1px rgba(0, 0, 0, 0.15);\n",
              "        filter: drop-shadow(0px 1px 2px rgba(0, 0, 0, 0.3));\n",
              "        fill: #FFFFFF;\n",
              "      }\n",
              "    </style>\n",
              "    <button class=\"colab-df-generate\" onclick=\"generateWithVariable('df')\"\n",
              "            title=\"Generate code using this dataframe.\"\n",
              "            style=\"display:none;\">\n",
              "\n",
              "  <svg xmlns=\"http://www.w3.org/2000/svg\" height=\"24px\"viewBox=\"0 0 24 24\"\n",
              "       width=\"24px\">\n",
              "    <path d=\"M7,19H8.4L18.45,9,17,7.55,7,17.6ZM5,21V16.75L18.45,3.32a2,2,0,0,1,2.83,0l1.4,1.43a1.91,1.91,0,0,1,.58,1.4,1.91,1.91,0,0,1-.58,1.4L9.25,21ZM18.45,9,17,7.55Zm-12,3A5.31,5.31,0,0,0,4.9,8.1,5.31,5.31,0,0,0,1,6.5,5.31,5.31,0,0,0,4.9,4.9,5.31,5.31,0,0,0,6.5,1,5.31,5.31,0,0,0,8.1,4.9,5.31,5.31,0,0,0,12,6.5,5.46,5.46,0,0,0,6.5,12Z\"/>\n",
              "  </svg>\n",
              "    </button>\n",
              "    <script>\n",
              "      (() => {\n",
              "      const buttonEl =\n",
              "        document.querySelector('#id_04930a30-6220-4a55-a8dc-5d7102d2b6a7 button.colab-df-generate');\n",
              "      buttonEl.style.display =\n",
              "        google.colab.kernel.accessAllowed ? 'block' : 'none';\n",
              "\n",
              "      buttonEl.onclick = () => {\n",
              "        google.colab.notebook.generateWithVariable('df');\n",
              "      }\n",
              "      })();\n",
              "    </script>\n",
              "  </div>\n",
              "\n",
              "    </div>\n",
              "  </div>\n"
            ],
            "application/vnd.google.colaboratory.intrinsic+json": {
              "type": "dataframe",
              "variable_name": "df",
              "summary": "{\n  \"name\": \"df\",\n  \"rows\": 3,\n  \"fields\": [\n    {\n      \"column\": \"Color\",\n      \"properties\": {\n        \"dtype\": \"string\",\n        \"num_unique_values\": 3,\n        \"samples\": [\n          \"Red\",\n          \"Green\",\n          \"Blue\"\n        ],\n        \"semantic_type\": \"\",\n        \"description\": \"\"\n      }\n    },\n    {\n      \"column\": \"Encoded\",\n      \"properties\": {\n        \"dtype\": \"number\",\n        \"std\": 1,\n        \"min\": 0,\n        \"max\": 2,\n        \"num_unique_values\": 3,\n        \"samples\": [\n          0,\n          1,\n          2\n        ],\n        \"semantic_type\": \"\",\n        \"description\": \"\"\n      }\n    },\n    {\n      \"column\": \"Color_encoded\",\n      \"properties\": {\n        \"dtype\": \"number\",\n        \"std\": 1,\n        \"min\": 0,\n        \"max\": 2,\n        \"num_unique_values\": 3,\n        \"samples\": [\n          2,\n          1,\n          0\n        ],\n        \"semantic_type\": \"\",\n        \"description\": \"\"\n      }\n    }\n  ]\n}"
            }
          },
          "metadata": {},
          "execution_count": 17
        }
      ]
    },
    {
      "cell_type": "markdown",
      "source": [
        "**2. One-Hot Encoding (OHE)**\n",
        "\n",
        "Creates separate binary columns for each category.\n",
        "Used for nominal categorical variables (where order doesn’t matter).\n",
        "- Example:\n",
        "\n",
        "|Color\t|Red\t|Green\t|Blue|\n",
        "|-------|-----|-------|----|\n",
        "|Red\t|1\t|0\t|0|\n",
        "|Green\t|0\t|1\t|0|\n",
        "|Blue\t|0\t|0\t|1|"
      ],
      "metadata": {
        "id": "SqXedB7h3o5d"
      }
    },
    {
      "cell_type": "code",
      "source": [
        "from sklearn.preprocessing import OneHotEncoder\n",
        "import pandas as pd\n",
        "\n",
        "# Create DataFrame\n",
        "df = pd.DataFrame({'Color': ['Red', 'Green', 'Blue']})\n",
        "\n",
        "# Initialize OneHotEncoder\n",
        "encoder = OneHotEncoder(sparse_output=False)\n",
        "\n",
        "# Fit and transform\n",
        "encoded = encoder.fit_transform(df[['Color']])\n",
        "\n",
        "# Convert to DataFrame with proper column names\n",
        "df_encoded = pd.DataFrame(encoded, columns=encoder.get_feature_names_out(['Color']))\n",
        "\n",
        "# Show result\n",
        "print(df_encoded)"
      ],
      "metadata": {
        "colab": {
          "base_uri": "https://localhost:8080/"
        },
        "id": "Z0u92RJ90Sot",
        "outputId": "970d9774-67e6-4bf6-ecec-a8153eb6320c"
      },
      "execution_count": 19,
      "outputs": [
        {
          "output_type": "stream",
          "name": "stdout",
          "text": [
            "   Color_Blue  Color_Green  Color_Red\n",
            "0         0.0          0.0        1.0\n",
            "1         0.0          1.0        0.0\n",
            "2         1.0          0.0        0.0\n"
          ]
        }
      ]
    },
    {
      "cell_type": "markdown",
      "source": [
        "**3. Ordinal Encoding**\n",
        "\n",
        "Used when categorical values have a meaningful order.\n",
        "- Example: Low < Medium < High.\n",
        "\n",
        "|Priority\t|Encoded\n",
        "|---------|-------|\n",
        "Low\t|0\n",
        "Medium\t|1\n",
        "High\t|2"
      ],
      "metadata": {
        "id": "fWIiITkb44s1"
      }
    },
    {
      "cell_type": "code",
      "source": [
        "from sklearn.preprocessing import OrdinalEncoder\n",
        "df = pd.DataFrame({'Priority': ['Low', 'Medium', 'High'],'Encoded': [0,1,2]})\n",
        "encoder = OrdinalEncoder(categories=[['Low', 'Medium', 'High']])\n",
        "df['Priority_encoded'] = encoder.fit_transform(df[['Priority']])\n",
        "df"
      ],
      "metadata": {
        "colab": {
          "base_uri": "https://localhost:8080/",
          "height": 143
        },
        "id": "ZmXK_ELW4ExY",
        "outputId": "d240415e-f68a-49d5-e608-a302519b178f"
      },
      "execution_count": 27,
      "outputs": [
        {
          "output_type": "execute_result",
          "data": {
            "text/plain": [
              "  Priority  Encoded  Priority_encoded\n",
              "0      Low        0               0.0\n",
              "1   Medium        1               1.0\n",
              "2     High        2               2.0"
            ],
            "text/html": [
              "\n",
              "  <div id=\"df-c2ac6f18-a664-4421-a510-d56fd27c3c82\" class=\"colab-df-container\">\n",
              "    <div>\n",
              "<style scoped>\n",
              "    .dataframe tbody tr th:only-of-type {\n",
              "        vertical-align: middle;\n",
              "    }\n",
              "\n",
              "    .dataframe tbody tr th {\n",
              "        vertical-align: top;\n",
              "    }\n",
              "\n",
              "    .dataframe thead th {\n",
              "        text-align: right;\n",
              "    }\n",
              "</style>\n",
              "<table border=\"1\" class=\"dataframe\">\n",
              "  <thead>\n",
              "    <tr style=\"text-align: right;\">\n",
              "      <th></th>\n",
              "      <th>Priority</th>\n",
              "      <th>Encoded</th>\n",
              "      <th>Priority_encoded</th>\n",
              "    </tr>\n",
              "  </thead>\n",
              "  <tbody>\n",
              "    <tr>\n",
              "      <th>0</th>\n",
              "      <td>Low</td>\n",
              "      <td>0</td>\n",
              "      <td>0.0</td>\n",
              "    </tr>\n",
              "    <tr>\n",
              "      <th>1</th>\n",
              "      <td>Medium</td>\n",
              "      <td>1</td>\n",
              "      <td>1.0</td>\n",
              "    </tr>\n",
              "    <tr>\n",
              "      <th>2</th>\n",
              "      <td>High</td>\n",
              "      <td>2</td>\n",
              "      <td>2.0</td>\n",
              "    </tr>\n",
              "  </tbody>\n",
              "</table>\n",
              "</div>\n",
              "    <div class=\"colab-df-buttons\">\n",
              "\n",
              "  <div class=\"colab-df-container\">\n",
              "    <button class=\"colab-df-convert\" onclick=\"convertToInteractive('df-c2ac6f18-a664-4421-a510-d56fd27c3c82')\"\n",
              "            title=\"Convert this dataframe to an interactive table.\"\n",
              "            style=\"display:none;\">\n",
              "\n",
              "  <svg xmlns=\"http://www.w3.org/2000/svg\" height=\"24px\" viewBox=\"0 -960 960 960\">\n",
              "    <path d=\"M120-120v-720h720v720H120Zm60-500h600v-160H180v160Zm220 220h160v-160H400v160Zm0 220h160v-160H400v160ZM180-400h160v-160H180v160Zm440 0h160v-160H620v160ZM180-180h160v-160H180v160Zm440 0h160v-160H620v160Z\"/>\n",
              "  </svg>\n",
              "    </button>\n",
              "\n",
              "  <style>\n",
              "    .colab-df-container {\n",
              "      display:flex;\n",
              "      gap: 12px;\n",
              "    }\n",
              "\n",
              "    .colab-df-convert {\n",
              "      background-color: #E8F0FE;\n",
              "      border: none;\n",
              "      border-radius: 50%;\n",
              "      cursor: pointer;\n",
              "      display: none;\n",
              "      fill: #1967D2;\n",
              "      height: 32px;\n",
              "      padding: 0 0 0 0;\n",
              "      width: 32px;\n",
              "    }\n",
              "\n",
              "    .colab-df-convert:hover {\n",
              "      background-color: #E2EBFA;\n",
              "      box-shadow: 0px 1px 2px rgba(60, 64, 67, 0.3), 0px 1px 3px 1px rgba(60, 64, 67, 0.15);\n",
              "      fill: #174EA6;\n",
              "    }\n",
              "\n",
              "    .colab-df-buttons div {\n",
              "      margin-bottom: 4px;\n",
              "    }\n",
              "\n",
              "    [theme=dark] .colab-df-convert {\n",
              "      background-color: #3B4455;\n",
              "      fill: #D2E3FC;\n",
              "    }\n",
              "\n",
              "    [theme=dark] .colab-df-convert:hover {\n",
              "      background-color: #434B5C;\n",
              "      box-shadow: 0px 1px 3px 1px rgba(0, 0, 0, 0.15);\n",
              "      filter: drop-shadow(0px 1px 2px rgba(0, 0, 0, 0.3));\n",
              "      fill: #FFFFFF;\n",
              "    }\n",
              "  </style>\n",
              "\n",
              "    <script>\n",
              "      const buttonEl =\n",
              "        document.querySelector('#df-c2ac6f18-a664-4421-a510-d56fd27c3c82 button.colab-df-convert');\n",
              "      buttonEl.style.display =\n",
              "        google.colab.kernel.accessAllowed ? 'block' : 'none';\n",
              "\n",
              "      async function convertToInteractive(key) {\n",
              "        const element = document.querySelector('#df-c2ac6f18-a664-4421-a510-d56fd27c3c82');\n",
              "        const dataTable =\n",
              "          await google.colab.kernel.invokeFunction('convertToInteractive',\n",
              "                                                    [key], {});\n",
              "        if (!dataTable) return;\n",
              "\n",
              "        const docLinkHtml = 'Like what you see? Visit the ' +\n",
              "          '<a target=\"_blank\" href=https://colab.research.google.com/notebooks/data_table.ipynb>data table notebook</a>'\n",
              "          + ' to learn more about interactive tables.';\n",
              "        element.innerHTML = '';\n",
              "        dataTable['output_type'] = 'display_data';\n",
              "        await google.colab.output.renderOutput(dataTable, element);\n",
              "        const docLink = document.createElement('div');\n",
              "        docLink.innerHTML = docLinkHtml;\n",
              "        element.appendChild(docLink);\n",
              "      }\n",
              "    </script>\n",
              "  </div>\n",
              "\n",
              "\n",
              "<div id=\"df-a9ff0802-a726-42a7-9485-cf54788d6528\">\n",
              "  <button class=\"colab-df-quickchart\" onclick=\"quickchart('df-a9ff0802-a726-42a7-9485-cf54788d6528')\"\n",
              "            title=\"Suggest charts\"\n",
              "            style=\"display:none;\">\n",
              "\n",
              "<svg xmlns=\"http://www.w3.org/2000/svg\" height=\"24px\"viewBox=\"0 0 24 24\"\n",
              "     width=\"24px\">\n",
              "    <g>\n",
              "        <path d=\"M19 3H5c-1.1 0-2 .9-2 2v14c0 1.1.9 2 2 2h14c1.1 0 2-.9 2-2V5c0-1.1-.9-2-2-2zM9 17H7v-7h2v7zm4 0h-2V7h2v10zm4 0h-2v-4h2v4z\"/>\n",
              "    </g>\n",
              "</svg>\n",
              "  </button>\n",
              "\n",
              "<style>\n",
              "  .colab-df-quickchart {\n",
              "      --bg-color: #E8F0FE;\n",
              "      --fill-color: #1967D2;\n",
              "      --hover-bg-color: #E2EBFA;\n",
              "      --hover-fill-color: #174EA6;\n",
              "      --disabled-fill-color: #AAA;\n",
              "      --disabled-bg-color: #DDD;\n",
              "  }\n",
              "\n",
              "  [theme=dark] .colab-df-quickchart {\n",
              "      --bg-color: #3B4455;\n",
              "      --fill-color: #D2E3FC;\n",
              "      --hover-bg-color: #434B5C;\n",
              "      --hover-fill-color: #FFFFFF;\n",
              "      --disabled-bg-color: #3B4455;\n",
              "      --disabled-fill-color: #666;\n",
              "  }\n",
              "\n",
              "  .colab-df-quickchart {\n",
              "    background-color: var(--bg-color);\n",
              "    border: none;\n",
              "    border-radius: 50%;\n",
              "    cursor: pointer;\n",
              "    display: none;\n",
              "    fill: var(--fill-color);\n",
              "    height: 32px;\n",
              "    padding: 0;\n",
              "    width: 32px;\n",
              "  }\n",
              "\n",
              "  .colab-df-quickchart:hover {\n",
              "    background-color: var(--hover-bg-color);\n",
              "    box-shadow: 0 1px 2px rgba(60, 64, 67, 0.3), 0 1px 3px 1px rgba(60, 64, 67, 0.15);\n",
              "    fill: var(--button-hover-fill-color);\n",
              "  }\n",
              "\n",
              "  .colab-df-quickchart-complete:disabled,\n",
              "  .colab-df-quickchart-complete:disabled:hover {\n",
              "    background-color: var(--disabled-bg-color);\n",
              "    fill: var(--disabled-fill-color);\n",
              "    box-shadow: none;\n",
              "  }\n",
              "\n",
              "  .colab-df-spinner {\n",
              "    border: 2px solid var(--fill-color);\n",
              "    border-color: transparent;\n",
              "    border-bottom-color: var(--fill-color);\n",
              "    animation:\n",
              "      spin 1s steps(1) infinite;\n",
              "  }\n",
              "\n",
              "  @keyframes spin {\n",
              "    0% {\n",
              "      border-color: transparent;\n",
              "      border-bottom-color: var(--fill-color);\n",
              "      border-left-color: var(--fill-color);\n",
              "    }\n",
              "    20% {\n",
              "      border-color: transparent;\n",
              "      border-left-color: var(--fill-color);\n",
              "      border-top-color: var(--fill-color);\n",
              "    }\n",
              "    30% {\n",
              "      border-color: transparent;\n",
              "      border-left-color: var(--fill-color);\n",
              "      border-top-color: var(--fill-color);\n",
              "      border-right-color: var(--fill-color);\n",
              "    }\n",
              "    40% {\n",
              "      border-color: transparent;\n",
              "      border-right-color: var(--fill-color);\n",
              "      border-top-color: var(--fill-color);\n",
              "    }\n",
              "    60% {\n",
              "      border-color: transparent;\n",
              "      border-right-color: var(--fill-color);\n",
              "    }\n",
              "    80% {\n",
              "      border-color: transparent;\n",
              "      border-right-color: var(--fill-color);\n",
              "      border-bottom-color: var(--fill-color);\n",
              "    }\n",
              "    90% {\n",
              "      border-color: transparent;\n",
              "      border-bottom-color: var(--fill-color);\n",
              "    }\n",
              "  }\n",
              "</style>\n",
              "\n",
              "  <script>\n",
              "    async function quickchart(key) {\n",
              "      const quickchartButtonEl =\n",
              "        document.querySelector('#' + key + ' button');\n",
              "      quickchartButtonEl.disabled = true;  // To prevent multiple clicks.\n",
              "      quickchartButtonEl.classList.add('colab-df-spinner');\n",
              "      try {\n",
              "        const charts = await google.colab.kernel.invokeFunction(\n",
              "            'suggestCharts', [key], {});\n",
              "      } catch (error) {\n",
              "        console.error('Error during call to suggestCharts:', error);\n",
              "      }\n",
              "      quickchartButtonEl.classList.remove('colab-df-spinner');\n",
              "      quickchartButtonEl.classList.add('colab-df-quickchart-complete');\n",
              "    }\n",
              "    (() => {\n",
              "      let quickchartButtonEl =\n",
              "        document.querySelector('#df-a9ff0802-a726-42a7-9485-cf54788d6528 button');\n",
              "      quickchartButtonEl.style.display =\n",
              "        google.colab.kernel.accessAllowed ? 'block' : 'none';\n",
              "    })();\n",
              "  </script>\n",
              "</div>\n",
              "\n",
              "  <div id=\"id_78bb129f-c8ce-4b54-b8c3-ccaae157d8df\">\n",
              "    <style>\n",
              "      .colab-df-generate {\n",
              "        background-color: #E8F0FE;\n",
              "        border: none;\n",
              "        border-radius: 50%;\n",
              "        cursor: pointer;\n",
              "        display: none;\n",
              "        fill: #1967D2;\n",
              "        height: 32px;\n",
              "        padding: 0 0 0 0;\n",
              "        width: 32px;\n",
              "      }\n",
              "\n",
              "      .colab-df-generate:hover {\n",
              "        background-color: #E2EBFA;\n",
              "        box-shadow: 0px 1px 2px rgba(60, 64, 67, 0.3), 0px 1px 3px 1px rgba(60, 64, 67, 0.15);\n",
              "        fill: #174EA6;\n",
              "      }\n",
              "\n",
              "      [theme=dark] .colab-df-generate {\n",
              "        background-color: #3B4455;\n",
              "        fill: #D2E3FC;\n",
              "      }\n",
              "\n",
              "      [theme=dark] .colab-df-generate:hover {\n",
              "        background-color: #434B5C;\n",
              "        box-shadow: 0px 1px 3px 1px rgba(0, 0, 0, 0.15);\n",
              "        filter: drop-shadow(0px 1px 2px rgba(0, 0, 0, 0.3));\n",
              "        fill: #FFFFFF;\n",
              "      }\n",
              "    </style>\n",
              "    <button class=\"colab-df-generate\" onclick=\"generateWithVariable('df')\"\n",
              "            title=\"Generate code using this dataframe.\"\n",
              "            style=\"display:none;\">\n",
              "\n",
              "  <svg xmlns=\"http://www.w3.org/2000/svg\" height=\"24px\"viewBox=\"0 0 24 24\"\n",
              "       width=\"24px\">\n",
              "    <path d=\"M7,19H8.4L18.45,9,17,7.55,7,17.6ZM5,21V16.75L18.45,3.32a2,2,0,0,1,2.83,0l1.4,1.43a1.91,1.91,0,0,1,.58,1.4,1.91,1.91,0,0,1-.58,1.4L9.25,21ZM18.45,9,17,7.55Zm-12,3A5.31,5.31,0,0,0,4.9,8.1,5.31,5.31,0,0,0,1,6.5,5.31,5.31,0,0,0,4.9,4.9,5.31,5.31,0,0,0,6.5,1,5.31,5.31,0,0,0,8.1,4.9,5.31,5.31,0,0,0,12,6.5,5.46,5.46,0,0,0,6.5,12Z\"/>\n",
              "  </svg>\n",
              "    </button>\n",
              "    <script>\n",
              "      (() => {\n",
              "      const buttonEl =\n",
              "        document.querySelector('#id_78bb129f-c8ce-4b54-b8c3-ccaae157d8df button.colab-df-generate');\n",
              "      buttonEl.style.display =\n",
              "        google.colab.kernel.accessAllowed ? 'block' : 'none';\n",
              "\n",
              "      buttonEl.onclick = () => {\n",
              "        google.colab.notebook.generateWithVariable('df');\n",
              "      }\n",
              "      })();\n",
              "    </script>\n",
              "  </div>\n",
              "\n",
              "    </div>\n",
              "  </div>\n"
            ],
            "application/vnd.google.colaboratory.intrinsic+json": {
              "type": "dataframe",
              "variable_name": "df",
              "summary": "{\n  \"name\": \"df\",\n  \"rows\": 3,\n  \"fields\": [\n    {\n      \"column\": \"Priority\",\n      \"properties\": {\n        \"dtype\": \"string\",\n        \"num_unique_values\": 3,\n        \"samples\": [\n          \"Low\",\n          \"Medium\",\n          \"High\"\n        ],\n        \"semantic_type\": \"\",\n        \"description\": \"\"\n      }\n    },\n    {\n      \"column\": \"Encoded\",\n      \"properties\": {\n        \"dtype\": \"number\",\n        \"std\": 1,\n        \"min\": 0,\n        \"max\": 2,\n        \"num_unique_values\": 3,\n        \"samples\": [\n          0,\n          1,\n          2\n        ],\n        \"semantic_type\": \"\",\n        \"description\": \"\"\n      }\n    },\n    {\n      \"column\": \"Priority_encoded\",\n      \"properties\": {\n        \"dtype\": \"number\",\n        \"std\": 1.0,\n        \"min\": 0.0,\n        \"max\": 2.0,\n        \"num_unique_values\": 3,\n        \"samples\": [\n          0.0,\n          1.0,\n          2.0\n        ],\n        \"semantic_type\": \"\",\n        \"description\": \"\"\n      }\n    }\n  ]\n}"
            }
          },
          "metadata": {},
          "execution_count": 27
        }
      ]
    },
    {
      "cell_type": "markdown",
      "source": [
        "**4. Target Encoding (Mean Encoding)**\n",
        "- Replaces categories with the mean of the target variable for each category.\n",
        "- Useful in high-cardinality categorical variables.\n",
        "- Example (Loan Default Data):\n",
        "\n",
        "|City\t|Default Rate\n",
        "|-----|------------\n",
        "|A\t|0.2\n",
        "|B\t|0.4\n",
        "|C\t|0.1"
      ],
      "metadata": {
        "id": "7IlfNmAH5SzB"
      }
    },
    {
      "cell_type": "code",
      "source": [
        "df = pd.DataFrame({'City': ['Red', 'Green', 'Blue'], 'Loan_Default': [0.2, 0.4, 0.1]})\n",
        "df['City_encoded'] = df.groupby('City')['Loan_Default'].transform('mean')\n",
        "df"
      ],
      "metadata": {
        "colab": {
          "base_uri": "https://localhost:8080/",
          "height": 143
        },
        "id": "E62u1yFX5Nde",
        "outputId": "4624bdcc-e8d1-40dd-d388-13dddee485ea"
      },
      "execution_count": 30,
      "outputs": [
        {
          "output_type": "execute_result",
          "data": {
            "text/plain": [
              "    City  Loan_Default  City_encoded\n",
              "0    Red           0.2           0.2\n",
              "1  Green           0.4           0.4\n",
              "2   Blue           0.1           0.1"
            ],
            "text/html": [
              "\n",
              "  <div id=\"df-f3563080-ea4b-4680-9ffb-38a1bf7fca18\" class=\"colab-df-container\">\n",
              "    <div>\n",
              "<style scoped>\n",
              "    .dataframe tbody tr th:only-of-type {\n",
              "        vertical-align: middle;\n",
              "    }\n",
              "\n",
              "    .dataframe tbody tr th {\n",
              "        vertical-align: top;\n",
              "    }\n",
              "\n",
              "    .dataframe thead th {\n",
              "        text-align: right;\n",
              "    }\n",
              "</style>\n",
              "<table border=\"1\" class=\"dataframe\">\n",
              "  <thead>\n",
              "    <tr style=\"text-align: right;\">\n",
              "      <th></th>\n",
              "      <th>City</th>\n",
              "      <th>Loan_Default</th>\n",
              "      <th>City_encoded</th>\n",
              "    </tr>\n",
              "  </thead>\n",
              "  <tbody>\n",
              "    <tr>\n",
              "      <th>0</th>\n",
              "      <td>Red</td>\n",
              "      <td>0.2</td>\n",
              "      <td>0.2</td>\n",
              "    </tr>\n",
              "    <tr>\n",
              "      <th>1</th>\n",
              "      <td>Green</td>\n",
              "      <td>0.4</td>\n",
              "      <td>0.4</td>\n",
              "    </tr>\n",
              "    <tr>\n",
              "      <th>2</th>\n",
              "      <td>Blue</td>\n",
              "      <td>0.1</td>\n",
              "      <td>0.1</td>\n",
              "    </tr>\n",
              "  </tbody>\n",
              "</table>\n",
              "</div>\n",
              "    <div class=\"colab-df-buttons\">\n",
              "\n",
              "  <div class=\"colab-df-container\">\n",
              "    <button class=\"colab-df-convert\" onclick=\"convertToInteractive('df-f3563080-ea4b-4680-9ffb-38a1bf7fca18')\"\n",
              "            title=\"Convert this dataframe to an interactive table.\"\n",
              "            style=\"display:none;\">\n",
              "\n",
              "  <svg xmlns=\"http://www.w3.org/2000/svg\" height=\"24px\" viewBox=\"0 -960 960 960\">\n",
              "    <path d=\"M120-120v-720h720v720H120Zm60-500h600v-160H180v160Zm220 220h160v-160H400v160Zm0 220h160v-160H400v160ZM180-400h160v-160H180v160Zm440 0h160v-160H620v160ZM180-180h160v-160H180v160Zm440 0h160v-160H620v160Z\"/>\n",
              "  </svg>\n",
              "    </button>\n",
              "\n",
              "  <style>\n",
              "    .colab-df-container {\n",
              "      display:flex;\n",
              "      gap: 12px;\n",
              "    }\n",
              "\n",
              "    .colab-df-convert {\n",
              "      background-color: #E8F0FE;\n",
              "      border: none;\n",
              "      border-radius: 50%;\n",
              "      cursor: pointer;\n",
              "      display: none;\n",
              "      fill: #1967D2;\n",
              "      height: 32px;\n",
              "      padding: 0 0 0 0;\n",
              "      width: 32px;\n",
              "    }\n",
              "\n",
              "    .colab-df-convert:hover {\n",
              "      background-color: #E2EBFA;\n",
              "      box-shadow: 0px 1px 2px rgba(60, 64, 67, 0.3), 0px 1px 3px 1px rgba(60, 64, 67, 0.15);\n",
              "      fill: #174EA6;\n",
              "    }\n",
              "\n",
              "    .colab-df-buttons div {\n",
              "      margin-bottom: 4px;\n",
              "    }\n",
              "\n",
              "    [theme=dark] .colab-df-convert {\n",
              "      background-color: #3B4455;\n",
              "      fill: #D2E3FC;\n",
              "    }\n",
              "\n",
              "    [theme=dark] .colab-df-convert:hover {\n",
              "      background-color: #434B5C;\n",
              "      box-shadow: 0px 1px 3px 1px rgba(0, 0, 0, 0.15);\n",
              "      filter: drop-shadow(0px 1px 2px rgba(0, 0, 0, 0.3));\n",
              "      fill: #FFFFFF;\n",
              "    }\n",
              "  </style>\n",
              "\n",
              "    <script>\n",
              "      const buttonEl =\n",
              "        document.querySelector('#df-f3563080-ea4b-4680-9ffb-38a1bf7fca18 button.colab-df-convert');\n",
              "      buttonEl.style.display =\n",
              "        google.colab.kernel.accessAllowed ? 'block' : 'none';\n",
              "\n",
              "      async function convertToInteractive(key) {\n",
              "        const element = document.querySelector('#df-f3563080-ea4b-4680-9ffb-38a1bf7fca18');\n",
              "        const dataTable =\n",
              "          await google.colab.kernel.invokeFunction('convertToInteractive',\n",
              "                                                    [key], {});\n",
              "        if (!dataTable) return;\n",
              "\n",
              "        const docLinkHtml = 'Like what you see? Visit the ' +\n",
              "          '<a target=\"_blank\" href=https://colab.research.google.com/notebooks/data_table.ipynb>data table notebook</a>'\n",
              "          + ' to learn more about interactive tables.';\n",
              "        element.innerHTML = '';\n",
              "        dataTable['output_type'] = 'display_data';\n",
              "        await google.colab.output.renderOutput(dataTable, element);\n",
              "        const docLink = document.createElement('div');\n",
              "        docLink.innerHTML = docLinkHtml;\n",
              "        element.appendChild(docLink);\n",
              "      }\n",
              "    </script>\n",
              "  </div>\n",
              "\n",
              "\n",
              "<div id=\"df-bea1f796-b586-49e1-98bf-b105a5673b40\">\n",
              "  <button class=\"colab-df-quickchart\" onclick=\"quickchart('df-bea1f796-b586-49e1-98bf-b105a5673b40')\"\n",
              "            title=\"Suggest charts\"\n",
              "            style=\"display:none;\">\n",
              "\n",
              "<svg xmlns=\"http://www.w3.org/2000/svg\" height=\"24px\"viewBox=\"0 0 24 24\"\n",
              "     width=\"24px\">\n",
              "    <g>\n",
              "        <path d=\"M19 3H5c-1.1 0-2 .9-2 2v14c0 1.1.9 2 2 2h14c1.1 0 2-.9 2-2V5c0-1.1-.9-2-2-2zM9 17H7v-7h2v7zm4 0h-2V7h2v10zm4 0h-2v-4h2v4z\"/>\n",
              "    </g>\n",
              "</svg>\n",
              "  </button>\n",
              "\n",
              "<style>\n",
              "  .colab-df-quickchart {\n",
              "      --bg-color: #E8F0FE;\n",
              "      --fill-color: #1967D2;\n",
              "      --hover-bg-color: #E2EBFA;\n",
              "      --hover-fill-color: #174EA6;\n",
              "      --disabled-fill-color: #AAA;\n",
              "      --disabled-bg-color: #DDD;\n",
              "  }\n",
              "\n",
              "  [theme=dark] .colab-df-quickchart {\n",
              "      --bg-color: #3B4455;\n",
              "      --fill-color: #D2E3FC;\n",
              "      --hover-bg-color: #434B5C;\n",
              "      --hover-fill-color: #FFFFFF;\n",
              "      --disabled-bg-color: #3B4455;\n",
              "      --disabled-fill-color: #666;\n",
              "  }\n",
              "\n",
              "  .colab-df-quickchart {\n",
              "    background-color: var(--bg-color);\n",
              "    border: none;\n",
              "    border-radius: 50%;\n",
              "    cursor: pointer;\n",
              "    display: none;\n",
              "    fill: var(--fill-color);\n",
              "    height: 32px;\n",
              "    padding: 0;\n",
              "    width: 32px;\n",
              "  }\n",
              "\n",
              "  .colab-df-quickchart:hover {\n",
              "    background-color: var(--hover-bg-color);\n",
              "    box-shadow: 0 1px 2px rgba(60, 64, 67, 0.3), 0 1px 3px 1px rgba(60, 64, 67, 0.15);\n",
              "    fill: var(--button-hover-fill-color);\n",
              "  }\n",
              "\n",
              "  .colab-df-quickchart-complete:disabled,\n",
              "  .colab-df-quickchart-complete:disabled:hover {\n",
              "    background-color: var(--disabled-bg-color);\n",
              "    fill: var(--disabled-fill-color);\n",
              "    box-shadow: none;\n",
              "  }\n",
              "\n",
              "  .colab-df-spinner {\n",
              "    border: 2px solid var(--fill-color);\n",
              "    border-color: transparent;\n",
              "    border-bottom-color: var(--fill-color);\n",
              "    animation:\n",
              "      spin 1s steps(1) infinite;\n",
              "  }\n",
              "\n",
              "  @keyframes spin {\n",
              "    0% {\n",
              "      border-color: transparent;\n",
              "      border-bottom-color: var(--fill-color);\n",
              "      border-left-color: var(--fill-color);\n",
              "    }\n",
              "    20% {\n",
              "      border-color: transparent;\n",
              "      border-left-color: var(--fill-color);\n",
              "      border-top-color: var(--fill-color);\n",
              "    }\n",
              "    30% {\n",
              "      border-color: transparent;\n",
              "      border-left-color: var(--fill-color);\n",
              "      border-top-color: var(--fill-color);\n",
              "      border-right-color: var(--fill-color);\n",
              "    }\n",
              "    40% {\n",
              "      border-color: transparent;\n",
              "      border-right-color: var(--fill-color);\n",
              "      border-top-color: var(--fill-color);\n",
              "    }\n",
              "    60% {\n",
              "      border-color: transparent;\n",
              "      border-right-color: var(--fill-color);\n",
              "    }\n",
              "    80% {\n",
              "      border-color: transparent;\n",
              "      border-right-color: var(--fill-color);\n",
              "      border-bottom-color: var(--fill-color);\n",
              "    }\n",
              "    90% {\n",
              "      border-color: transparent;\n",
              "      border-bottom-color: var(--fill-color);\n",
              "    }\n",
              "  }\n",
              "</style>\n",
              "\n",
              "  <script>\n",
              "    async function quickchart(key) {\n",
              "      const quickchartButtonEl =\n",
              "        document.querySelector('#' + key + ' button');\n",
              "      quickchartButtonEl.disabled = true;  // To prevent multiple clicks.\n",
              "      quickchartButtonEl.classList.add('colab-df-spinner');\n",
              "      try {\n",
              "        const charts = await google.colab.kernel.invokeFunction(\n",
              "            'suggestCharts', [key], {});\n",
              "      } catch (error) {\n",
              "        console.error('Error during call to suggestCharts:', error);\n",
              "      }\n",
              "      quickchartButtonEl.classList.remove('colab-df-spinner');\n",
              "      quickchartButtonEl.classList.add('colab-df-quickchart-complete');\n",
              "    }\n",
              "    (() => {\n",
              "      let quickchartButtonEl =\n",
              "        document.querySelector('#df-bea1f796-b586-49e1-98bf-b105a5673b40 button');\n",
              "      quickchartButtonEl.style.display =\n",
              "        google.colab.kernel.accessAllowed ? 'block' : 'none';\n",
              "    })();\n",
              "  </script>\n",
              "</div>\n",
              "\n",
              "  <div id=\"id_dae784e7-5bea-401f-bdd0-6df30b580a02\">\n",
              "    <style>\n",
              "      .colab-df-generate {\n",
              "        background-color: #E8F0FE;\n",
              "        border: none;\n",
              "        border-radius: 50%;\n",
              "        cursor: pointer;\n",
              "        display: none;\n",
              "        fill: #1967D2;\n",
              "        height: 32px;\n",
              "        padding: 0 0 0 0;\n",
              "        width: 32px;\n",
              "      }\n",
              "\n",
              "      .colab-df-generate:hover {\n",
              "        background-color: #E2EBFA;\n",
              "        box-shadow: 0px 1px 2px rgba(60, 64, 67, 0.3), 0px 1px 3px 1px rgba(60, 64, 67, 0.15);\n",
              "        fill: #174EA6;\n",
              "      }\n",
              "\n",
              "      [theme=dark] .colab-df-generate {\n",
              "        background-color: #3B4455;\n",
              "        fill: #D2E3FC;\n",
              "      }\n",
              "\n",
              "      [theme=dark] .colab-df-generate:hover {\n",
              "        background-color: #434B5C;\n",
              "        box-shadow: 0px 1px 3px 1px rgba(0, 0, 0, 0.15);\n",
              "        filter: drop-shadow(0px 1px 2px rgba(0, 0, 0, 0.3));\n",
              "        fill: #FFFFFF;\n",
              "      }\n",
              "    </style>\n",
              "    <button class=\"colab-df-generate\" onclick=\"generateWithVariable('df')\"\n",
              "            title=\"Generate code using this dataframe.\"\n",
              "            style=\"display:none;\">\n",
              "\n",
              "  <svg xmlns=\"http://www.w3.org/2000/svg\" height=\"24px\"viewBox=\"0 0 24 24\"\n",
              "       width=\"24px\">\n",
              "    <path d=\"M7,19H8.4L18.45,9,17,7.55,7,17.6ZM5,21V16.75L18.45,3.32a2,2,0,0,1,2.83,0l1.4,1.43a1.91,1.91,0,0,1,.58,1.4,1.91,1.91,0,0,1-.58,1.4L9.25,21ZM18.45,9,17,7.55Zm-12,3A5.31,5.31,0,0,0,4.9,8.1,5.31,5.31,0,0,0,1,6.5,5.31,5.31,0,0,0,4.9,4.9,5.31,5.31,0,0,0,6.5,1,5.31,5.31,0,0,0,8.1,4.9,5.31,5.31,0,0,0,12,6.5,5.46,5.46,0,0,0,6.5,12Z\"/>\n",
              "  </svg>\n",
              "    </button>\n",
              "    <script>\n",
              "      (() => {\n",
              "      const buttonEl =\n",
              "        document.querySelector('#id_dae784e7-5bea-401f-bdd0-6df30b580a02 button.colab-df-generate');\n",
              "      buttonEl.style.display =\n",
              "        google.colab.kernel.accessAllowed ? 'block' : 'none';\n",
              "\n",
              "      buttonEl.onclick = () => {\n",
              "        google.colab.notebook.generateWithVariable('df');\n",
              "      }\n",
              "      })();\n",
              "    </script>\n",
              "  </div>\n",
              "\n",
              "    </div>\n",
              "  </div>\n"
            ],
            "application/vnd.google.colaboratory.intrinsic+json": {
              "type": "dataframe",
              "variable_name": "df",
              "summary": "{\n  \"name\": \"df\",\n  \"rows\": 3,\n  \"fields\": [\n    {\n      \"column\": \"City\",\n      \"properties\": {\n        \"dtype\": \"string\",\n        \"num_unique_values\": 3,\n        \"samples\": [\n          \"Red\",\n          \"Green\",\n          \"Blue\"\n        ],\n        \"semantic_type\": \"\",\n        \"description\": \"\"\n      }\n    },\n    {\n      \"column\": \"Loan_Default\",\n      \"properties\": {\n        \"dtype\": \"number\",\n        \"std\": 0.1527525231651947,\n        \"min\": 0.1,\n        \"max\": 0.4,\n        \"num_unique_values\": 3,\n        \"samples\": [\n          0.2,\n          0.4,\n          0.1\n        ],\n        \"semantic_type\": \"\",\n        \"description\": \"\"\n      }\n    },\n    {\n      \"column\": \"City_encoded\",\n      \"properties\": {\n        \"dtype\": \"number\",\n        \"std\": 0.1527525231651947,\n        \"min\": 0.1,\n        \"max\": 0.4,\n        \"num_unique_values\": 3,\n        \"samples\": [\n          0.2,\n          0.4,\n          0.1\n        ],\n        \"semantic_type\": \"\",\n        \"description\": \"\"\n      }\n    }\n  ]\n}"
            }
          },
          "metadata": {},
          "execution_count": 30
        }
      ]
    },
    {
      "cell_type": "markdown",
      "source": [
        "**5. Binary Encoding**\n",
        "- Combination of One-Hot and Label Encoding.\n",
        "- Converts categories to binary format and assigns numerical values.\n",
        "- Example:\n",
        "\n",
        "|Category\t|Binary\t|Encoded\n",
        "|---------|-------|-------\n",
        "|A\t|001\t|0, 0, 1\n",
        "|B\t|010\t|0, 1, 0\n",
        "|C\t|011\t|0, 1, 1"
      ],
      "metadata": {
        "id": "nEzguLN_5qSG"
      }
    },
    {
      "cell_type": "code",
      "source": [
        "from category_encoders import BinaryEncoder\n",
        "import pandas as pd\n",
        "\n",
        "df = pd.DataFrame({'Category': ['A', 'B', 'C']})\n",
        "\n",
        "encoder = BinaryEncoder(cols=['Category'])\n",
        "df_encoded = encoder.fit_transform(df)\n",
        "\n",
        "print(df_encoded)"
      ],
      "metadata": {
        "colab": {
          "base_uri": "https://localhost:8080/"
        },
        "id": "Ib3lygwE-pWd",
        "outputId": "79781e59-ca9c-4659-ffe7-0cc09315c927"
      },
      "execution_count": 33,
      "outputs": [
        {
          "output_type": "stream",
          "name": "stdout",
          "text": [
            "   Category_0  Category_1\n",
            "0           0           1\n",
            "1           1           0\n",
            "2           1           1\n"
          ]
        }
      ]
    },
    {
      "cell_type": "markdown",
      "source": [
        "# When to Use Which Encoding?\n",
        "\n",
        "|Encoding Type\t|Suitable For\n",
        "|---------------|------------\n",
        "Label Encoding\t|Ordinal categorical data\n",
        "One-Hot Encoding\t|Small number of categories, nominal data\n",
        "Ordinal Encoding\t|Ordered categorical data\n",
        "Target Encoding\t|High-cardinality categorical variables\n",
        "Binary Encoding\t|Large number of categories, reduces dimensionality\n"
      ],
      "metadata": {
        "id": "ygeVs8We6VEX"
      }
    },
    {
      "cell_type": "code",
      "source": [],
      "metadata": {
        "id": "pYyHKx-m6EXS"
      },
      "execution_count": null,
      "outputs": []
    }
  ]
}